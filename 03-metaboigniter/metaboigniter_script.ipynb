{
 "cells": [
  {
   "cell_type": "code",
   "execution_count": null,
   "id": "4a72f621-1292-4971-9766-621db10f777a",
   "metadata": {
    "tags": []
   },
   "outputs": [],
   "source": [
    "# This script is an attempt to scrape filenames and initiate a metaboigniter workflow, whether locally or through a computing cluster such as Kamiaks\n",
    "# Metaboigniter requires a sample list of a specific format labeled \"samplesheet.csv\"\n",
    "# This script should read all the .mzML files in the 03-file_conversion folder and automatically build this csv \n",
    "# Users will be prompted to input \"type\" entry for each sample, errors will have to be corrected by editing the .csv file directly\n",
    "# Assumes no fragmentation for now (MS1 only)"
   ]
  },
  {
   "cell_type": "code",
   "execution_count": 38,
   "id": "2a756613-5246-4cd2-8cac-4374a55a0f69",
   "metadata": {
    "tags": []
   },
   "outputs": [
    {
     "name": "stdout",
     "output_type": "stream",
     "text": [
      "        sample level type                                 msfile\n",
      "0   s4br1-r003   MS1       ../02-file_conversion/s4br1-r003.mzML\n",
      "1    c1r1-r001   MS1        ../02-file_conversion/c1r1-r001.mzML\n",
      "2    s1r1-r002   MS1        ../02-file_conversion/s1r1-r002.mzML\n",
      "3   s4fr2-r003   MS1       ../02-file_conversion/s4fr2-r003.mzML\n",
      "4   s4br3-r002   MS1       ../02-file_conversion/s4br3-r002.mzML\n",
      "5    s2r1-r002   MS1        ../02-file_conversion/s2r1-r002.mzML\n",
      "6    s1r1-r003   MS1        ../02-file_conversion/s1r1-r003.mzML\n",
      "7    s2r2-r003   MS1        ../02-file_conversion/s2r2-r003.mzML\n",
      "8   s4fr3-r001   MS1       ../02-file_conversion/s4fr3-r001.mzML\n",
      "9    s3r2-r002   MS1        ../02-file_conversion/s3r2-r002.mzML\n",
      "10   c1r3-r002   MS1        ../02-file_conversion/c1r3-r002.mzML\n",
      "11   s2r1-r001   MS1        ../02-file_conversion/s2r1-r001.mzML\n",
      "12   c3r1-r003   MS1        ../02-file_conversion/c3r1-r003.mzML\n",
      "13   c4r3-r002   MS1        ../02-file_conversion/c4r3-r002.mzML\n",
      "14   c1r3-r001   MS1        ../02-file_conversion/c1r3-r001.mzML\n",
      "15   s3r3-r002   MS1        ../02-file_conversion/s3r3-r002.mzML\n",
      "16   s2r3-r003   MS1        ../02-file_conversion/s2r3-r003.mzML\n",
      "17   c4r3-r001   MS1        ../02-file_conversion/c4r3-r001.mzML\n",
      "18   s3r2-r001   MS1        ../02-file_conversion/s3r2-r001.mzML\n",
      "19  s4br2-r001   MS1       ../02-file_conversion/s4br2-r001.mzML\n",
      "20   s2r2-r002   MS1        ../02-file_conversion/s2r2-r002.mzML\n",
      "21   c3r1-r002   MS1        ../02-file_conversion/c3r1-r002.mzML\n",
      "22   s1r3-r001   MS1        ../02-file_conversion/s1r3-r001.mzML\n",
      "23   s3r1-r001   MS1        ../02-file_conversion/s3r1-r001.mzML\n",
      "24  s4br3-r001   MS1       ../02-file_conversion/s4br3-r001.mzML\n",
      "25  s4fr1-r002   MS1       ../02-file_conversion/s4fr1-r002.mzML\n",
      "26   c3r3-r003   MS1        ../02-file_conversion/c3r3-r003.mzML\n",
      "27   s3r3-r003   MS1        ../02-file_conversion/s3r3-r003.mzML\n",
      "28  s4fr1-r003   MS1       ../02-file_conversion/s4fr1-r003.mzML\n",
      "29   c4r1-r001   MS1        ../02-file_conversion/c4r1-r001.mzML\n",
      "30   s1r2-r003   MS1        ../02-file_conversion/s1r2-r003.mzML\n"
     ]
    }
   ],
   "source": [
    "#For dataframes\n",
    "import pandas as pd\n",
    "\n",
    "#For file lists\n",
    "import os\n",
    "\n",
    "#For Path command\n",
    "from pathlib import Path\n",
    "\n",
    "#Create the initial empty dataframe with appropriate column headers for metaboigniter's samplesheet.csv format\n",
    "samplesheet=pd.DataFrame(columns=['sample','level','type','msfile'])\n",
    "\n",
    "#Index variable\n",
    "i=0\n",
    "\n",
    "#Loop that reads each .mzML file and inserts it in to samplesheet dataframe\n",
    "for file in os.listdir(\"../02-file_conversion\"):\n",
    "    if file.endswith(\".mzML\"):\n",
    "        samplesheet.loc[i]=[Path(file).stem,\"MS1\", '', '../02-file_conversion/'+file]\n",
    "    i=i+1\n",
    "\n",
    "#Sort by sample name to make type labeling easier\n",
    "samplesheet.sort_values(by='sample')\n",
    "\n",
    "#View our dataframe to ensure it's correct\n",
    "print(samplesheet)\n",
    "\n",
    "#Sorting does not appear to work in mixed strings with letters and numbers, need a way to sort by the first value in the string in the \"sample\" column"
   ]
  },
  {
   "cell_type": "code",
   "execution_count": 39,
   "id": "247cdf7e-afaf-44df-8506-9096e5a30ba4",
   "metadata": {},
   "outputs": [
    {
     "name": "stdout",
     "output_type": "stream",
     "text": [
      "Type for this sample (e.g., 'control', 'smoke', etc.): s4br1-r003\n"
     ]
    },
    {
     "name": "stdin",
     "output_type": "stream",
     "text": [
      " smoke\n"
     ]
    },
    {
     "name": "stdout",
     "output_type": "stream",
     "text": [
      "Type for this sample (e.g., 'control', 'smoke', etc.): c1r1-r001\n"
     ]
    },
    {
     "name": "stdin",
     "output_type": "stream",
     "text": [
      " control\n"
     ]
    },
    {
     "name": "stdout",
     "output_type": "stream",
     "text": [
      "Type for this sample (e.g., 'control', 'smoke', etc.): s1r1-r002\n"
     ]
    },
    {
     "name": "stdin",
     "output_type": "stream",
     "text": [
      " smoke\n"
     ]
    },
    {
     "name": "stdout",
     "output_type": "stream",
     "text": [
      "Type for this sample (e.g., 'control', 'smoke', etc.): s4fr2-r003\n"
     ]
    },
    {
     "name": "stdin",
     "output_type": "stream",
     "text": [
      " smoke\n"
     ]
    },
    {
     "name": "stdout",
     "output_type": "stream",
     "text": [
      "Type for this sample (e.g., 'control', 'smoke', etc.): s4br3-r002\n"
     ]
    },
    {
     "name": "stdin",
     "output_type": "stream",
     "text": [
      " smoke\n"
     ]
    },
    {
     "name": "stdout",
     "output_type": "stream",
     "text": [
      "Type for this sample (e.g., 'control', 'smoke', etc.): s2r1-r002\n"
     ]
    },
    {
     "name": "stdin",
     "output_type": "stream",
     "text": [
      " smoke\n"
     ]
    },
    {
     "name": "stdout",
     "output_type": "stream",
     "text": [
      "Type for this sample (e.g., 'control', 'smoke', etc.): s1r1-r003\n"
     ]
    },
    {
     "name": "stdin",
     "output_type": "stream",
     "text": [
      " smoke\n"
     ]
    },
    {
     "name": "stdout",
     "output_type": "stream",
     "text": [
      "Type for this sample (e.g., 'control', 'smoke', etc.): s2r2-r003\n"
     ]
    },
    {
     "name": "stdin",
     "output_type": "stream",
     "text": [
      " smoke\n"
     ]
    },
    {
     "name": "stdout",
     "output_type": "stream",
     "text": [
      "Type for this sample (e.g., 'control', 'smoke', etc.): s4fr3-r001\n"
     ]
    },
    {
     "name": "stdin",
     "output_type": "stream",
     "text": [
      " smoke\n"
     ]
    },
    {
     "name": "stdout",
     "output_type": "stream",
     "text": [
      "Type for this sample (e.g., 'control', 'smoke', etc.): s3r2-r002\n"
     ]
    },
    {
     "name": "stdin",
     "output_type": "stream",
     "text": [
      " smoke\n"
     ]
    },
    {
     "name": "stdout",
     "output_type": "stream",
     "text": [
      "Type for this sample (e.g., 'control', 'smoke', etc.): c1r3-r002\n"
     ]
    },
    {
     "name": "stdin",
     "output_type": "stream",
     "text": [
      " control\n"
     ]
    },
    {
     "name": "stdout",
     "output_type": "stream",
     "text": [
      "Type for this sample (e.g., 'control', 'smoke', etc.): s2r1-r001\n"
     ]
    },
    {
     "name": "stdin",
     "output_type": "stream",
     "text": [
      " smoke\n"
     ]
    },
    {
     "name": "stdout",
     "output_type": "stream",
     "text": [
      "Type for this sample (e.g., 'control', 'smoke', etc.): c3r1-r003\n"
     ]
    },
    {
     "name": "stdin",
     "output_type": "stream",
     "text": [
      " control\n"
     ]
    },
    {
     "name": "stdout",
     "output_type": "stream",
     "text": [
      "Type for this sample (e.g., 'control', 'smoke', etc.): c4r3-r002\n"
     ]
    },
    {
     "name": "stdin",
     "output_type": "stream",
     "text": [
      " control\n"
     ]
    },
    {
     "name": "stdout",
     "output_type": "stream",
     "text": [
      "Type for this sample (e.g., 'control', 'smoke', etc.): c1r3-r001\n"
     ]
    },
    {
     "name": "stdin",
     "output_type": "stream",
     "text": [
      " control\n"
     ]
    },
    {
     "name": "stdout",
     "output_type": "stream",
     "text": [
      "Type for this sample (e.g., 'control', 'smoke', etc.): s3r3-r002\n"
     ]
    },
    {
     "name": "stdin",
     "output_type": "stream",
     "text": [
      " smoke\n"
     ]
    },
    {
     "name": "stdout",
     "output_type": "stream",
     "text": [
      "Type for this sample (e.g., 'control', 'smoke', etc.): s2r3-r003\n"
     ]
    },
    {
     "name": "stdin",
     "output_type": "stream",
     "text": [
      " smoke\n"
     ]
    },
    {
     "name": "stdout",
     "output_type": "stream",
     "text": [
      "Type for this sample (e.g., 'control', 'smoke', etc.): c4r3-r001\n"
     ]
    },
    {
     "name": "stdin",
     "output_type": "stream",
     "text": [
      " control\n"
     ]
    },
    {
     "name": "stdout",
     "output_type": "stream",
     "text": [
      "Type for this sample (e.g., 'control', 'smoke', etc.): s3r2-r001\n"
     ]
    },
    {
     "name": "stdin",
     "output_type": "stream",
     "text": [
      " smoke\n"
     ]
    },
    {
     "name": "stdout",
     "output_type": "stream",
     "text": [
      "Type for this sample (e.g., 'control', 'smoke', etc.): s4br2-r001\n"
     ]
    },
    {
     "name": "stdin",
     "output_type": "stream",
     "text": [
      " smoke\n"
     ]
    },
    {
     "name": "stdout",
     "output_type": "stream",
     "text": [
      "Type for this sample (e.g., 'control', 'smoke', etc.): s2r2-r002\n"
     ]
    },
    {
     "name": "stdin",
     "output_type": "stream",
     "text": [
      " smoke\n"
     ]
    },
    {
     "name": "stdout",
     "output_type": "stream",
     "text": [
      "Type for this sample (e.g., 'control', 'smoke', etc.): c3r1-r002\n"
     ]
    },
    {
     "name": "stdin",
     "output_type": "stream",
     "text": [
      " control\n"
     ]
    },
    {
     "name": "stdout",
     "output_type": "stream",
     "text": [
      "Type for this sample (e.g., 'control', 'smoke', etc.): s1r3-r001\n"
     ]
    },
    {
     "name": "stdin",
     "output_type": "stream",
     "text": [
      " smoke\n"
     ]
    },
    {
     "name": "stdout",
     "output_type": "stream",
     "text": [
      "Type for this sample (e.g., 'control', 'smoke', etc.): s3r1-r001\n"
     ]
    },
    {
     "name": "stdin",
     "output_type": "stream",
     "text": [
      " smoke\n"
     ]
    },
    {
     "name": "stdout",
     "output_type": "stream",
     "text": [
      "Type for this sample (e.g., 'control', 'smoke', etc.): s4br3-r001\n"
     ]
    },
    {
     "name": "stdin",
     "output_type": "stream",
     "text": [
      " smoke\n"
     ]
    },
    {
     "name": "stdout",
     "output_type": "stream",
     "text": [
      "Type for this sample (e.g., 'control', 'smoke', etc.): s4fr1-r002\n"
     ]
    },
    {
     "name": "stdin",
     "output_type": "stream",
     "text": [
      " smoke\n"
     ]
    },
    {
     "name": "stdout",
     "output_type": "stream",
     "text": [
      "Type for this sample (e.g., 'control', 'smoke', etc.): c3r3-r003\n"
     ]
    },
    {
     "name": "stdin",
     "output_type": "stream",
     "text": [
      " control\n"
     ]
    },
    {
     "name": "stdout",
     "output_type": "stream",
     "text": [
      "Type for this sample (e.g., 'control', 'smoke', etc.): s3r3-r003\n"
     ]
    },
    {
     "name": "stdin",
     "output_type": "stream",
     "text": [
      " smoke\n"
     ]
    },
    {
     "name": "stdout",
     "output_type": "stream",
     "text": [
      "Type for this sample (e.g., 'control', 'smoke', etc.): s4fr1-r003\n"
     ]
    },
    {
     "name": "stdin",
     "output_type": "stream",
     "text": [
      " smoke\n"
     ]
    },
    {
     "name": "stdout",
     "output_type": "stream",
     "text": [
      "Type for this sample (e.g., 'control', 'smoke', etc.): c4r1-r001\n"
     ]
    },
    {
     "name": "stdin",
     "output_type": "stream",
     "text": [
      " control\n"
     ]
    },
    {
     "name": "stdout",
     "output_type": "stream",
     "text": [
      "Type for this sample (e.g., 'control', 'smoke', etc.): s1r2-r003\n"
     ]
    },
    {
     "name": "stdin",
     "output_type": "stream",
     "text": [
      " smoke\n"
     ]
    }
   ],
   "source": [
    "#Loop to prompt for inputs to fill in the \"type\" column of samplesheet before exporting\n",
    "#New index variable\n",
    "j=0\n",
    "while j < len(samplesheet.index):\n",
    "    print(\"Type for this sample (e.g., 'control', 'smoke', etc.): \" + samplesheet.loc[j,'sample'])\n",
    "    type_input=input()\n",
    "    samplesheet.loc[j,'type']=type_input\n",
    "    j=j+1\n",
    "\n",
    "#Export dataframe as samplesheet.csv\n",
    "samplesheet.to_csv('samplesheet.csv',index=False)"
   ]
  },
  {
   "cell_type": "code",
   "execution_count": null,
   "id": "c1dc1070-0f92-4ad9-ba63-7c7a8247dbeb",
   "metadata": {},
   "outputs": [],
   "source": []
  }
 ],
 "metadata": {
  "kernelspec": {
   "display_name": "Python 3 (ipykernel)",
   "language": "python",
   "name": "python3"
  },
  "language_info": {
   "codemirror_mode": {
    "name": "ipython",
    "version": 3
   },
   "file_extension": ".py",
   "mimetype": "text/x-python",
   "name": "python",
   "nbconvert_exporter": "python",
   "pygments_lexer": "ipython3",
   "version": "3.11.5"
  }
 },
 "nbformat": 4,
 "nbformat_minor": 5
}
