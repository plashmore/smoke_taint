{
 "cells": [
  {
   "cell_type": "code",
   "execution_count": null,
   "id": "4a72f621-1292-4971-9766-621db10f777a",
   "metadata": {
    "tags": []
   },
   "outputs": [],
   "source": [
    "# This script is an attempt to scrape filenames and initiate a metaboigniter workflow, whether locally or through a computing cluster such as Kamiaks\n",
    "# Metaboigniter requires a sample list of a specific format labeled \"samplesheet.csv\"\n",
    "# This script should read all the .mzML files in the 03-file_conversion folder and automatically build this csv \n",
    "# Users will be prompted to input \"type\" entry for each sample, errors will have to be corrected by editing the .csv file directly\n",
    "# Assumes no fragmentation for now (MS1 only)"
   ]
  },
  {
   "cell_type": "code",
   "execution_count": 1,
   "id": "2a756613-5246-4cd2-8cac-4374a55a0f69",
   "metadata": {
    "tags": []
   },
   "outputs": [
    {
     "name": "stdout",
     "output_type": "stream",
     "text": [
      "        sample level type                                 msfile\n",
      "0    c1r3-r003   MS1        ../02-file_conversion/c1r3-r003.mzML\n",
      "1   s4br1-r003   MS1       ../02-file_conversion/s4br1-r003.mzML\n",
      "2   s4fr2-r002   MS1       ../02-file_conversion/s4fr2-r002.mzML\n",
      "3    c1r1-r003   MS1        ../02-file_conversion/c1r1-r003.mzML\n",
      "4   s4br1-r001   MS1       ../02-file_conversion/s4br1-r001.mzML\n",
      "..         ...   ...  ...                                    ...\n",
      "61   s1r3-r003   MS1        ../02-file_conversion/s1r3-r003.mzML\n",
      "62   s3r1-r002   MS1        ../02-file_conversion/s3r1-r002.mzML\n",
      "63   c4r1-r001   MS1        ../02-file_conversion/c4r1-r001.mzML\n",
      "64   c4r1-r002   MS1        ../02-file_conversion/c4r1-r002.mzML\n",
      "65   s1r2-r003   MS1        ../02-file_conversion/s1r2-r003.mzML\n",
      "\n",
      "[63 rows x 4 columns]\n"
     ]
    }
   ],
   "source": [
    "#For dataframes\n",
    "import pandas as pd\n",
    "\n",
    "#For file lists\n",
    "import os\n",
    "\n",
    "#For Path command\n",
    "from pathlib import Path\n",
    "\n",
    "#Create the initial empty dataframe with appropriate column headers for metaboigniter's samplesheet.csv format\n",
    "samplesheet=pd.DataFrame(columns=['sample','level','type','msfile'])\n",
    "\n",
    "#Index variable\n",
    "i=0\n",
    "\n",
    "#Loop that reads each .mzML file and inserts it in to samplesheet dataframe\n",
    "for file in os.listdir(\"../02-file_conversion\"):\n",
    "    if file.endswith(\".mzML\"):\n",
    "        samplesheet.loc[i]=[Path(file).stem,\"MS1\", '', '../02-file_conversion/'+file]\n",
    "    i=i+1\n",
    "\n",
    "#Sort by sample name to make type labeling easier\n",
    "samplesheet.sort_values(by='sample')\n",
    "\n",
    "#View our dataframe to ensure it's correct\n",
    "print(samplesheet)\n",
    "\n",
    "#Sorting does not appear to work in mixed strings with letters and numbers, need a way to sort by the first value in the string in the \"sample\" column"
   ]
  },
  {
   "cell_type": "code",
   "execution_count": 2,
   "id": "247cdf7e-afaf-44df-8506-9096e5a30ba4",
   "metadata": {},
   "outputs": [
    {
     "name": "stdout",
     "output_type": "stream",
     "text": [
      "Type for this sample (e.g., 'control', 'smoke', etc.): c1r3-r003\n"
     ]
    },
    {
     "name": "stdin",
     "output_type": "stream",
     "text": [
      " control\n"
     ]
    },
    {
     "name": "stdout",
     "output_type": "stream",
     "text": [
      "Type for this sample (e.g., 'control', 'smoke', etc.): s4br1-r003\n"
     ]
    },
    {
     "name": "stdin",
     "output_type": "stream",
     "text": [
      " smoke\n"
     ]
    },
    {
     "name": "stdout",
     "output_type": "stream",
     "text": [
      "Type for this sample (e.g., 'control', 'smoke', etc.): s4fr2-r002\n"
     ]
    },
    {
     "name": "stdin",
     "output_type": "stream",
     "text": [
      " smoke\n"
     ]
    },
    {
     "name": "stdout",
     "output_type": "stream",
     "text": [
      "Type for this sample (e.g., 'control', 'smoke', etc.): c1r1-r003\n"
     ]
    },
    {
     "name": "stdin",
     "output_type": "stream",
     "text": [
      " control\n"
     ]
    },
    {
     "name": "stdout",
     "output_type": "stream",
     "text": [
      "Type for this sample (e.g., 'control', 'smoke', etc.): s4br1-r001\n"
     ]
    },
    {
     "name": "stdin",
     "output_type": "stream",
     "text": [
      " smoke\n"
     ]
    },
    {
     "name": "stdout",
     "output_type": "stream",
     "text": [
      "Type for this sample (e.g., 'control', 'smoke', etc.): c1r1-r001\n"
     ]
    },
    {
     "name": "stdin",
     "output_type": "stream",
     "text": [
      " control\n"
     ]
    },
    {
     "name": "stdout",
     "output_type": "stream",
     "text": [
      "Type for this sample (e.g., 'control', 'smoke', etc.): s1r1-r002\n"
     ]
    },
    {
     "name": "stdin",
     "output_type": "stream",
     "text": [
      " smoke\n"
     ]
    },
    {
     "name": "stdout",
     "output_type": "stream",
     "text": [
      "Type for this sample (e.g., 'control', 'smoke', etc.): s4fr2-r003\n"
     ]
    },
    {
     "name": "stdin",
     "output_type": "stream",
     "text": [
      " smoke\n"
     ]
    },
    {
     "name": "stdout",
     "output_type": "stream",
     "text": [
      "Type for this sample (e.g., 'control', 'smoke', etc.): s2r1-r003\n"
     ]
    },
    {
     "name": "stdin",
     "output_type": "stream",
     "text": [
      " smoke\n"
     ]
    },
    {
     "name": "stdout",
     "output_type": "stream",
     "text": [
      "Type for this sample (e.g., 'control', 'smoke', etc.): s4br3-r002\n"
     ]
    },
    {
     "name": "stdin",
     "output_type": "stream",
     "text": [
      " smoke\n"
     ]
    },
    {
     "name": "stdout",
     "output_type": "stream",
     "text": [
      "Type for this sample (e.g., 'control', 'smoke', etc.): s2r1-r002\n"
     ]
    },
    {
     "name": "stdin",
     "output_type": "stream",
     "text": [
      " smoke\n"
     ]
    },
    {
     "name": "stdout",
     "output_type": "stream",
     "text": [
      "Type for this sample (e.g., 'control', 'smoke', etc.): s1r1-r003\n"
     ]
    },
    {
     "name": "stdin",
     "output_type": "stream",
     "text": [
      " smoke\n"
     ]
    },
    {
     "name": "stdout",
     "output_type": "stream",
     "text": [
      "Type for this sample (e.g., 'control', 'smoke', etc.): s2r2-r003\n"
     ]
    },
    {
     "name": "stdin",
     "output_type": "stream",
     "text": [
      " smoke\n"
     ]
    },
    {
     "name": "stdout",
     "output_type": "stream",
     "text": [
      "Type for this sample (e.g., 'control', 'smoke', etc.): s4fr3-r001\n"
     ]
    },
    {
     "name": "stdin",
     "output_type": "stream",
     "text": [
      " smoke\n"
     ]
    },
    {
     "name": "stdout",
     "output_type": "stream",
     "text": [
      "Type for this sample (e.g., 'control', 'smoke', etc.): s3r2-r002\n"
     ]
    },
    {
     "name": "stdin",
     "output_type": "stream",
     "text": [
      " smoke\n"
     ]
    },
    {
     "name": "stdout",
     "output_type": "stream",
     "text": [
      "Type for this sample (e.g., 'control', 'smoke', etc.): c1r3-r002\n"
     ]
    },
    {
     "name": "stdin",
     "output_type": "stream",
     "text": [
      " control\n"
     ]
    },
    {
     "name": "stdout",
     "output_type": "stream",
     "text": [
      "Type for this sample (e.g., 'control', 'smoke', etc.): s4fr3-r002\n"
     ]
    },
    {
     "name": "stdin",
     "output_type": "stream",
     "text": [
      " smoke\n"
     ]
    },
    {
     "name": "stdout",
     "output_type": "stream",
     "text": [
      "Type for this sample (e.g., 'control', 'smoke', etc.): s2r1-r001\n"
     ]
    },
    {
     "name": "stdin",
     "output_type": "stream",
     "text": [
      " smoke\n"
     ]
    },
    {
     "name": "stdout",
     "output_type": "stream",
     "text": [
      "Type for this sample (e.g., 'control', 'smoke', etc.): c4r1-r003\n"
     ]
    },
    {
     "name": "stdin",
     "output_type": "stream",
     "text": [
      " control\n"
     ]
    },
    {
     "name": "stdout",
     "output_type": "stream",
     "text": [
      "Type for this sample (e.g., 'control', 'smoke', etc.): s2r3-r001\n"
     ]
    },
    {
     "name": "stdin",
     "output_type": "stream",
     "text": [
      " smoke\n"
     ]
    },
    {
     "name": "stdout",
     "output_type": "stream",
     "text": [
      "Type for this sample (e.g., 'control', 'smoke', etc.): c3r3-r001\n"
     ]
    },
    {
     "name": "stdin",
     "output_type": "stream",
     "text": [
      " control\n"
     ]
    },
    {
     "name": "stdout",
     "output_type": "stream",
     "text": [
      "Type for this sample (e.g., 'control', 'smoke', etc.): s1r2-r002\n"
     ]
    },
    {
     "name": "stdin",
     "output_type": "stream",
     "text": [
      " smoke\n"
     ]
    },
    {
     "name": "stdout",
     "output_type": "stream",
     "text": [
      "Type for this sample (e.g., 'control', 'smoke', etc.): c3r1-r003\n"
     ]
    },
    {
     "name": "stdin",
     "output_type": "stream",
     "text": [
      " control\n"
     ]
    },
    {
     "name": "stdout",
     "output_type": "stream",
     "text": [
      "Type for this sample (e.g., 'control', 'smoke', etc.): s4br2-r002\n"
     ]
    },
    {
     "name": "stdin",
     "output_type": "stream",
     "text": [
      " smoke\n"
     ]
    },
    {
     "name": "stdout",
     "output_type": "stream",
     "text": [
      "Type for this sample (e.g., 'control', 'smoke', etc.): c4r3-r002\n"
     ]
    },
    {
     "name": "stdin",
     "output_type": "stream",
     "text": [
      " control\n"
     ]
    },
    {
     "name": "stdout",
     "output_type": "stream",
     "text": [
      "Type for this sample (e.g., 'control', 'smoke', etc.): c1r3-r001\n"
     ]
    },
    {
     "name": "stdin",
     "output_type": "stream",
     "text": [
      " control\n"
     ]
    },
    {
     "name": "stdout",
     "output_type": "stream",
     "text": [
      "Type for this sample (e.g., 'control', 'smoke', etc.): s3r3-r002\n"
     ]
    },
    {
     "name": "stdin",
     "output_type": "stream",
     "text": [
      " smoke\n"
     ]
    },
    {
     "name": "stdout",
     "output_type": "stream",
     "text": [
      "Type for this sample (e.g., 'control', 'smoke', etc.): s4fr2-r001\n"
     ]
    },
    {
     "name": "stdin",
     "output_type": "stream",
     "text": [
      " smoke\n"
     ]
    },
    {
     "name": "stdout",
     "output_type": "stream",
     "text": [
      "Type for this sample (e.g., 'control', 'smoke', etc.): s4br3-r003\n"
     ]
    },
    {
     "name": "stdin",
     "output_type": "stream",
     "text": [
      " smoke\n"
     ]
    },
    {
     "name": "stdout",
     "output_type": "stream",
     "text": [
      "Type for this sample (e.g., 'control', 'smoke', etc.): s2r3-r003\n"
     ]
    },
    {
     "name": "stdin",
     "output_type": "stream",
     "text": [
      " smoke\n"
     ]
    },
    {
     "name": "stdout",
     "output_type": "stream",
     "text": [
      "Type for this sample (e.g., 'control', 'smoke', etc.): c1r1-r002\n"
     ]
    },
    {
     "name": "stdin",
     "output_type": "stream",
     "text": [
      " control\n"
     ]
    },
    {
     "name": "stdout",
     "output_type": "stream",
     "text": [
      "Type for this sample (e.g., 'control', 'smoke', etc.): s3r1-r003\n"
     ]
    },
    {
     "name": "stdin",
     "output_type": "stream",
     "text": [
      " smoke\n"
     ]
    },
    {
     "name": "stdout",
     "output_type": "stream",
     "text": [
      "Type for this sample (e.g., 'control', 'smoke', etc.): s1r1-r001\n"
     ]
    },
    {
     "name": "stdin",
     "output_type": "stream",
     "text": [
      " smoke\n"
     ]
    },
    {
     "name": "stdout",
     "output_type": "stream",
     "text": [
      "Type for this sample (e.g., 'control', 'smoke', etc.): c4r3-r001\n"
     ]
    },
    {
     "name": "stdin",
     "output_type": "stream",
     "text": [
      " control\n"
     ]
    },
    {
     "name": "stdout",
     "output_type": "stream",
     "text": [
      "Type for this sample (e.g., 'control', 'smoke', etc.): s4fr1-r001\n"
     ]
    },
    {
     "name": "stdin",
     "output_type": "stream",
     "text": [
      " smoke\n"
     ]
    },
    {
     "name": "stdout",
     "output_type": "stream",
     "text": [
      "Type for this sample (e.g., 'control', 'smoke', etc.): c4r3-r003\n"
     ]
    },
    {
     "name": "stdin",
     "output_type": "stream",
     "text": [
      " control\n"
     ]
    },
    {
     "name": "stdout",
     "output_type": "stream",
     "text": [
      "Type for this sample (e.g., 'control', 'smoke', etc.): c3r1-r001\n"
     ]
    },
    {
     "name": "stdin",
     "output_type": "stream",
     "text": [
      " control\n"
     ]
    },
    {
     "name": "stdout",
     "output_type": "stream",
     "text": [
      "Type for this sample (e.g., 'control', 'smoke', etc.): s3r2-r001\n"
     ]
    },
    {
     "name": "stdin",
     "output_type": "stream",
     "text": [
      " smoke\n"
     ]
    },
    {
     "name": "stdout",
     "output_type": "stream",
     "text": [
      "Type for this sample (e.g., 'control', 'smoke', etc.): s4br2-r001\n"
     ]
    },
    {
     "name": "stdin",
     "output_type": "stream",
     "text": [
      " smoke\n"
     ]
    },
    {
     "name": "stdout",
     "output_type": "stream",
     "text": [
      "Type for this sample (e.g., 'control', 'smoke', etc.): s4br1-r002\n"
     ]
    },
    {
     "name": "stdin",
     "output_type": "stream",
     "text": [
      " smoke\n"
     ]
    },
    {
     "name": "stdout",
     "output_type": "stream",
     "text": [
      "Type for this sample (e.g., 'control', 'smoke', etc.): s1r2-r001\n"
     ]
    },
    {
     "name": "stdin",
     "output_type": "stream",
     "text": [
      " smoke\n"
     ]
    },
    {
     "name": "stdout",
     "output_type": "stream",
     "text": [
      "Type for this sample (e.g., 'control', 'smoke', etc.): s4br2-r003\n"
     ]
    },
    {
     "name": "stdin",
     "output_type": "stream",
     "text": [
      " smoke\n"
     ]
    },
    {
     "ename": "KeyError",
     "evalue": "42",
     "output_type": "error",
     "traceback": [
      "\u001b[0;31m---------------------------------------------------------------------------\u001b[0m",
      "\u001b[0;31mKeyError\u001b[0m                                  Traceback (most recent call last)",
      "File \u001b[0;32m~/anaconda3/lib/python3.11/site-packages/pandas/core/indexes/base.py:3653\u001b[0m, in \u001b[0;36mIndex.get_loc\u001b[0;34m(self, key)\u001b[0m\n\u001b[1;32m   3652\u001b[0m \u001b[38;5;28;01mtry\u001b[39;00m:\n\u001b[0;32m-> 3653\u001b[0m     \u001b[38;5;28;01mreturn\u001b[39;00m \u001b[38;5;28mself\u001b[39m\u001b[38;5;241m.\u001b[39m_engine\u001b[38;5;241m.\u001b[39mget_loc(casted_key)\n\u001b[1;32m   3654\u001b[0m \u001b[38;5;28;01mexcept\u001b[39;00m \u001b[38;5;167;01mKeyError\u001b[39;00m \u001b[38;5;28;01mas\u001b[39;00m err:\n",
      "File \u001b[0;32m~/anaconda3/lib/python3.11/site-packages/pandas/_libs/index.pyx:147\u001b[0m, in \u001b[0;36mpandas._libs.index.IndexEngine.get_loc\u001b[0;34m()\u001b[0m\n",
      "File \u001b[0;32m~/anaconda3/lib/python3.11/site-packages/pandas/_libs/index.pyx:176\u001b[0m, in \u001b[0;36mpandas._libs.index.IndexEngine.get_loc\u001b[0;34m()\u001b[0m\n",
      "File \u001b[0;32mpandas/_libs/hashtable_class_helper.pxi:2606\u001b[0m, in \u001b[0;36mpandas._libs.hashtable.Int64HashTable.get_item\u001b[0;34m()\u001b[0m\n",
      "File \u001b[0;32mpandas/_libs/hashtable_class_helper.pxi:2630\u001b[0m, in \u001b[0;36mpandas._libs.hashtable.Int64HashTable.get_item\u001b[0;34m()\u001b[0m\n",
      "\u001b[0;31mKeyError\u001b[0m: 42",
      "\nThe above exception was the direct cause of the following exception:\n",
      "\u001b[0;31mKeyError\u001b[0m                                  Traceback (most recent call last)",
      "Cell \u001b[0;32mIn[2], line 5\u001b[0m\n\u001b[1;32m      3\u001b[0m j\u001b[38;5;241m=\u001b[39m\u001b[38;5;241m0\u001b[39m\n\u001b[1;32m      4\u001b[0m \u001b[38;5;28;01mwhile\u001b[39;00m j \u001b[38;5;241m<\u001b[39m \u001b[38;5;28mlen\u001b[39m(samplesheet\u001b[38;5;241m.\u001b[39mindex):\n\u001b[0;32m----> 5\u001b[0m     \u001b[38;5;28mprint\u001b[39m(\u001b[38;5;124m\"\u001b[39m\u001b[38;5;124mType for this sample (e.g., \u001b[39m\u001b[38;5;124m'\u001b[39m\u001b[38;5;124mcontrol\u001b[39m\u001b[38;5;124m'\u001b[39m\u001b[38;5;124m, \u001b[39m\u001b[38;5;124m'\u001b[39m\u001b[38;5;124msmoke\u001b[39m\u001b[38;5;124m'\u001b[39m\u001b[38;5;124m, etc.): \u001b[39m\u001b[38;5;124m\"\u001b[39m \u001b[38;5;241m+\u001b[39m samplesheet\u001b[38;5;241m.\u001b[39mloc[j,\u001b[38;5;124m'\u001b[39m\u001b[38;5;124msample\u001b[39m\u001b[38;5;124m'\u001b[39m])\n\u001b[1;32m      6\u001b[0m     type_input\u001b[38;5;241m=\u001b[39m\u001b[38;5;28minput\u001b[39m()\n\u001b[1;32m      7\u001b[0m     samplesheet\u001b[38;5;241m.\u001b[39mloc[j,\u001b[38;5;124m'\u001b[39m\u001b[38;5;124mtype\u001b[39m\u001b[38;5;124m'\u001b[39m]\u001b[38;5;241m=\u001b[39mtype_input\n",
      "File \u001b[0;32m~/anaconda3/lib/python3.11/site-packages/pandas/core/indexing.py:1096\u001b[0m, in \u001b[0;36m_LocationIndexer.__getitem__\u001b[0;34m(self, key)\u001b[0m\n\u001b[1;32m   1094\u001b[0m     key \u001b[38;5;241m=\u001b[39m \u001b[38;5;28mtuple\u001b[39m(com\u001b[38;5;241m.\u001b[39mapply_if_callable(x, \u001b[38;5;28mself\u001b[39m\u001b[38;5;241m.\u001b[39mobj) \u001b[38;5;28;01mfor\u001b[39;00m x \u001b[38;5;129;01min\u001b[39;00m key)\n\u001b[1;32m   1095\u001b[0m     \u001b[38;5;28;01mif\u001b[39;00m \u001b[38;5;28mself\u001b[39m\u001b[38;5;241m.\u001b[39m_is_scalar_access(key):\n\u001b[0;32m-> 1096\u001b[0m         \u001b[38;5;28;01mreturn\u001b[39;00m \u001b[38;5;28mself\u001b[39m\u001b[38;5;241m.\u001b[39mobj\u001b[38;5;241m.\u001b[39m_get_value(\u001b[38;5;241m*\u001b[39mkey, takeable\u001b[38;5;241m=\u001b[39m\u001b[38;5;28mself\u001b[39m\u001b[38;5;241m.\u001b[39m_takeable)\n\u001b[1;32m   1097\u001b[0m     \u001b[38;5;28;01mreturn\u001b[39;00m \u001b[38;5;28mself\u001b[39m\u001b[38;5;241m.\u001b[39m_getitem_tuple(key)\n\u001b[1;32m   1098\u001b[0m \u001b[38;5;28;01melse\u001b[39;00m:\n\u001b[1;32m   1099\u001b[0m     \u001b[38;5;66;03m# we by definition only have the 0th axis\u001b[39;00m\n",
      "File \u001b[0;32m~/anaconda3/lib/python3.11/site-packages/pandas/core/frame.py:3877\u001b[0m, in \u001b[0;36mDataFrame._get_value\u001b[0;34m(self, index, col, takeable)\u001b[0m\n\u001b[1;32m   3871\u001b[0m engine \u001b[38;5;241m=\u001b[39m \u001b[38;5;28mself\u001b[39m\u001b[38;5;241m.\u001b[39mindex\u001b[38;5;241m.\u001b[39m_engine\n\u001b[1;32m   3873\u001b[0m \u001b[38;5;28;01mif\u001b[39;00m \u001b[38;5;129;01mnot\u001b[39;00m \u001b[38;5;28misinstance\u001b[39m(\u001b[38;5;28mself\u001b[39m\u001b[38;5;241m.\u001b[39mindex, MultiIndex):\n\u001b[1;32m   3874\u001b[0m     \u001b[38;5;66;03m# CategoricalIndex: Trying to use the engine fastpath may give incorrect\u001b[39;00m\n\u001b[1;32m   3875\u001b[0m     \u001b[38;5;66;03m#  results if our categories are integers that dont match our codes\u001b[39;00m\n\u001b[1;32m   3876\u001b[0m     \u001b[38;5;66;03m# IntervalIndex: IntervalTree has no get_loc\u001b[39;00m\n\u001b[0;32m-> 3877\u001b[0m     row \u001b[38;5;241m=\u001b[39m \u001b[38;5;28mself\u001b[39m\u001b[38;5;241m.\u001b[39mindex\u001b[38;5;241m.\u001b[39mget_loc(index)\n\u001b[1;32m   3878\u001b[0m     \u001b[38;5;28;01mreturn\u001b[39;00m series\u001b[38;5;241m.\u001b[39m_values[row]\n\u001b[1;32m   3880\u001b[0m \u001b[38;5;66;03m# For MultiIndex going through engine effectively restricts us to\u001b[39;00m\n\u001b[1;32m   3881\u001b[0m \u001b[38;5;66;03m#  same-length tuples; see test_get_set_value_no_partial_indexing\u001b[39;00m\n",
      "File \u001b[0;32m~/anaconda3/lib/python3.11/site-packages/pandas/core/indexes/base.py:3655\u001b[0m, in \u001b[0;36mIndex.get_loc\u001b[0;34m(self, key)\u001b[0m\n\u001b[1;32m   3653\u001b[0m     \u001b[38;5;28;01mreturn\u001b[39;00m \u001b[38;5;28mself\u001b[39m\u001b[38;5;241m.\u001b[39m_engine\u001b[38;5;241m.\u001b[39mget_loc(casted_key)\n\u001b[1;32m   3654\u001b[0m \u001b[38;5;28;01mexcept\u001b[39;00m \u001b[38;5;167;01mKeyError\u001b[39;00m \u001b[38;5;28;01mas\u001b[39;00m err:\n\u001b[0;32m-> 3655\u001b[0m     \u001b[38;5;28;01mraise\u001b[39;00m \u001b[38;5;167;01mKeyError\u001b[39;00m(key) \u001b[38;5;28;01mfrom\u001b[39;00m \u001b[38;5;21;01merr\u001b[39;00m\n\u001b[1;32m   3656\u001b[0m \u001b[38;5;28;01mexcept\u001b[39;00m \u001b[38;5;167;01mTypeError\u001b[39;00m:\n\u001b[1;32m   3657\u001b[0m     \u001b[38;5;66;03m# If we have a listlike key, _check_indexing_error will raise\u001b[39;00m\n\u001b[1;32m   3658\u001b[0m     \u001b[38;5;66;03m#  InvalidIndexError. Otherwise we fall through and re-raise\u001b[39;00m\n\u001b[1;32m   3659\u001b[0m     \u001b[38;5;66;03m#  the TypeError.\u001b[39;00m\n\u001b[1;32m   3660\u001b[0m     \u001b[38;5;28mself\u001b[39m\u001b[38;5;241m.\u001b[39m_check_indexing_error(key)\n",
      "\u001b[0;31mKeyError\u001b[0m: 42"
     ]
    }
   ],
   "source": [
    "#Loop to prompt for inputs to fill in the \"type\" column of samplesheet before exporting\n",
    "\n",
    "#New index variable\n",
    "#j=0\n",
    "#while j < len(samplesheet.index):\n",
    "#    print(\"Type for this sample (e.g., 'control', 'smoke', etc.): \" + samplesheet.loc[j,'sample'])\n",
    "#    type_input=input()\n",
    "#    samplesheet.loc[j,'type']=type_input\n",
    "#    j=j+1\n",
    "# Seems to be breaking, will just insert values by directly editing csv for now\n",
    "\n",
    "\n",
    "#Export dataframe as samplesheet.csv\n",
    "samplesheet.to_csv('samplesheet.csv',index=False)"
   ]
  },
  {
   "cell_type": "code",
   "execution_count": 3,
   "id": "c1dc1070-0f92-4ad9-ba63-7c7a8247dbeb",
   "metadata": {},
   "outputs": [],
   "source": [
    "samplesheet.to_csv('samplesheet.csv',index=False)"
   ]
  },
  {
   "cell_type": "code",
   "execution_count": null,
   "id": "c1f73fb6-8c78-4130-90b0-7d7c98bcdcc6",
   "metadata": {},
   "outputs": [],
   "source": []
  }
 ],
 "metadata": {
  "kernelspec": {
   "display_name": "Python 3 (ipykernel)",
   "language": "python",
   "name": "python3"
  },
  "language_info": {
   "codemirror_mode": {
    "name": "ipython",
    "version": 3
   },
   "file_extension": ".py",
   "mimetype": "text/x-python",
   "name": "python",
   "nbconvert_exporter": "python",
   "pygments_lexer": "ipython3",
   "version": "3.11.5"
  }
 },
 "nbformat": 4,
 "nbformat_minor": 5
}
