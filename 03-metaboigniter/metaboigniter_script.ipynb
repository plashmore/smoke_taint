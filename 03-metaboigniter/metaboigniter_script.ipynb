{
 "cells": [
  {
   "cell_type": "code",
   "execution_count": null,
   "id": "4a72f621-1292-4971-9766-621db10f777a",
   "metadata": {
    "tags": []
   },
   "outputs": [],
   "source": [
    "# This script is an attempt to scrape filenames and initiate a metaboigniter workflow, whether locally or through a computing cluster such as Kamiaks\n",
    "# Metaboigniter requires a sample list of a specific format labeled \"samplesheet.csv\"\n",
    "# This script should read all the .mzML files in the 03-file_conversion folder and automatically build this csv \n",
    "# Users will be prompted to input \"type\" entry for each sample, errors will have to be corrected by editing the .csv file directly\n",
    "# Assumes no fragmentation for now (MS1 only)"
   ]
  },
  {
   "cell_type": "code",
   "execution_count": 1,
   "id": "2a756613-5246-4cd2-8cac-4374a55a0f69",
   "metadata": {
    "tags": []
   },
   "outputs": [
    {
     "name": "stdout",
     "output_type": "stream",
     "text": [
      "        sample level type                                 msfile\n",
      "3    c1r1-r001   MS1        ../02-file_conversion/c1r1-r001.mzML\n",
      "4    c1r1-r002   MS1        ../02-file_conversion/c1r1-r002.mzML\n",
      "5    c1r1-r003   MS1        ../02-file_conversion/c1r1-r003.mzML\n",
      "6    c1r3-r001   MS1        ../02-file_conversion/c1r3-r001.mzML\n",
      "7    c1r3-r002   MS1        ../02-file_conversion/c1r3-r002.mzML\n",
      "..         ...   ...  ...                                    ...\n",
      "61  s4fr2-r002   MS1       ../02-file_conversion/s4fr2-r002.mzML\n",
      "62  s4fr2-r003   MS1       ../02-file_conversion/s4fr2-r003.mzML\n",
      "63  s4fr3-r001   MS1       ../02-file_conversion/s4fr3-r001.mzML\n",
      "64  s4fr3-r002   MS1       ../02-file_conversion/s4fr3-r002.mzML\n",
      "65  s4fr3-r003   MS1       ../02-file_conversion/s4fr3-r003.mzML\n",
      "\n",
      "[63 rows x 4 columns]\n"
     ]
    }
   ],
   "source": [
    "#For dataframes\n",
    "import pandas as pd\n",
    "\n",
    "#For file lists\n",
    "import os\n",
    "\n",
    "#For Path command\n",
    "from pathlib import Path\n",
    "\n",
    "#Create the initial empty dataframe with appropriate column headers for metaboigniter's samplesheet.csv format\n",
    "samplesheet=pd.DataFrame(columns=['sample','level','type','msfile'])\n",
    "\n",
    "#Index variable\n",
    "i=0\n",
    "\n",
    "#Loop that reads each .mzML file and inserts it in to samplesheet dataframe\n",
    "for file in os.listdir(\"../02-file_conversion\"):\n",
    "    if file.endswith(\".mzML\"):\n",
    "        samplesheet.loc[i]=[Path(file).stem,\"MS1\", '', '../02-file_conversion/'+file]\n",
    "    i=i+1\n",
    "\n",
    "#Sort by sample name to make type labeling easier\n",
    "samplesheet.sort_values(by='sample')\n",
    "\n",
    "#View our dataframe to ensure it's correct\n",
    "print(samplesheet)\n",
    "\n",
    "#Sorting does not appear to work in mixed strings with letters and numbers, need a way to sort by the first value in the string in the \"sample\" column"
   ]
  },
  {
   "cell_type": "code",
   "execution_count": 2,
   "id": "247cdf7e-afaf-44df-8506-9096e5a30ba4",
   "metadata": {},
   "outputs": [],
   "source": [
    "#Loop to prompt for inputs to fill in the \"type\" column of samplesheet before exporting\n",
    "\n",
    "#New index variable\n",
    "#j=0\n",
    "#while j < len(samplesheet.index):\n",
    "#    print(\"Type for this sample (e.g., 'control', 'smoke', etc.): \" + samplesheet.loc[j,'sample'])\n",
    "#    type_input=input()\n",
    "#    samplesheet.loc[j,'type']=type_input\n",
    "#    j=j+1\n",
    "\n",
    "# Seems to be breaking, will just insert values by directly editing csv for now\n",
    "\n",
    "\n",
    "#Export dataframe as samplesheet.csv\n",
    "samplesheet.to_csv('samplesheet.csv',index=False)"
   ]
  },
  {
   "cell_type": "code",
   "execution_count": 3,
   "id": "c1dc1070-0f92-4ad9-ba63-7c7a8247dbeb",
   "metadata": {},
   "outputs": [],
   "source": []
  },
  {
   "cell_type": "code",
   "execution_count": null,
   "id": "c1f73fb6-8c78-4130-90b0-7d7c98bcdcc6",
   "metadata": {},
   "outputs": [],
   "source": []
  }
 ],
 "metadata": {
  "kernelspec": {
   "display_name": "Python 3 (ipykernel)",
   "language": "python",
   "name": "python3"
  },
  "language_info": {
   "codemirror_mode": {
    "name": "ipython",
    "version": 3
   },
   "file_extension": ".py",
   "mimetype": "text/x-python",
   "name": "python",
   "nbconvert_exporter": "python",
   "pygments_lexer": "ipython3",
   "version": "3.11.7"
  }
 },
 "nbformat": 4,
 "nbformat_minor": 5
}
