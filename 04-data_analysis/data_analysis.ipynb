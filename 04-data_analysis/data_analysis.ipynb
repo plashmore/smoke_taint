{
 "cells": [
  {
   "cell_type": "code",
   "execution_count": 5,
   "id": "533eba47-5995-4910-adee-bdeb94dcd9ac",
   "metadata": {},
   "outputs": [],
   "source": [
    "# Packages for dataframe and stuff\n",
    "import numpy as np\n",
    "import pandas as pd\n",
    "\n",
    "# For random forest stuff\n",
    "from sklearn.ensemble import RandomForestClassifier\n",
    "from sklearn.metrics import accuracy_score, confusion_matrix, precision_score, recall_score, ConfusionMatrixDisplay\n",
    "from sklearn.model_selection import RandomizedSearchCV, train_test_split\n",
    "from scipy.stats import randint\n",
    "\n",
    "#For visulizations\n",
    "from sklearn.tree import export_graphviz\n",
    "from IPython.display import Image\n",
    "import graphviz"
   ]
  },
  {
   "cell_type": "code",
   "execution_count": 14,
   "id": "86d173d9-a776-452b-ab92-e92b148a2bd6",
   "metadata": {},
   "outputs": [],
   "source": [
    "#Read in our trimmed CSV from the data cleanup step\n",
    "data=pd.read_csv(\"../04-data_analysis/trimmed.csv\")\n",
    "#Remove rep column for now, probably should summarise (average) repeated measures later\n",
    "data=data.drop('rep', axis=1)"
   ]
  },
  {
   "cell_type": "code",
   "execution_count": 41,
   "id": "f38fdd83-4755-4636-8ff6-11ef85f5cd33",
   "metadata": {},
   "outputs": [],
   "source": [
    "#'Sample' column is the independent variable (samples) while the other columns (data) are dependent variables\n",
    "y=np.array(data['sample'])\n",
    "X=np.array(data.drop('sample', axis=1))\n",
    "\n",
    "#Split data in to train and testing sets\n",
    "X_train, X_test, y_train, y_test = train_test_split(X, y, test_size=0.2)"
   ]
  },
  {
   "cell_type": "code",
   "execution_count": 42,
   "id": "05762a7d-5964-4cf0-be37-e17743867b94",
   "metadata": {},
   "outputs": [
    {
     "ename": "ValueError",
     "evalue": "could not convert string to float: 'smoke'",
     "output_type": "error",
     "traceback": [
      "\u001b[0;31m---------------------------------------------------------------------------\u001b[0m",
      "\u001b[0;31mValueError\u001b[0m                                Traceback (most recent call last)",
      "Cell \u001b[0;32mIn[42], line 3\u001b[0m\n\u001b[1;32m      1\u001b[0m \u001b[38;5;66;03m#Build RF model\u001b[39;00m\n\u001b[1;32m      2\u001b[0m rf \u001b[38;5;241m=\u001b[39m RandomForestClassifier()\n\u001b[0;32m----> 3\u001b[0m rf\u001b[38;5;241m.\u001b[39mfit(X_train, y_train)\n",
      "File \u001b[0;32m~/anaconda3/lib/python3.11/site-packages/sklearn/ensemble/_forest.py:345\u001b[0m, in \u001b[0;36mBaseForest.fit\u001b[0;34m(self, X, y, sample_weight)\u001b[0m\n\u001b[1;32m    343\u001b[0m \u001b[38;5;28;01mif\u001b[39;00m issparse(y):\n\u001b[1;32m    344\u001b[0m     \u001b[38;5;28;01mraise\u001b[39;00m \u001b[38;5;167;01mValueError\u001b[39;00m(\u001b[38;5;124m\"\u001b[39m\u001b[38;5;124msparse multilabel-indicator for y is not supported.\u001b[39m\u001b[38;5;124m\"\u001b[39m)\n\u001b[0;32m--> 345\u001b[0m X, y \u001b[38;5;241m=\u001b[39m \u001b[38;5;28mself\u001b[39m\u001b[38;5;241m.\u001b[39m_validate_data(\n\u001b[1;32m    346\u001b[0m     X, y, multi_output\u001b[38;5;241m=\u001b[39m\u001b[38;5;28;01mTrue\u001b[39;00m, accept_sparse\u001b[38;5;241m=\u001b[39m\u001b[38;5;124m\"\u001b[39m\u001b[38;5;124mcsc\u001b[39m\u001b[38;5;124m\"\u001b[39m, dtype\u001b[38;5;241m=\u001b[39mDTYPE\n\u001b[1;32m    347\u001b[0m )\n\u001b[1;32m    348\u001b[0m \u001b[38;5;28;01mif\u001b[39;00m sample_weight \u001b[38;5;129;01mis\u001b[39;00m \u001b[38;5;129;01mnot\u001b[39;00m \u001b[38;5;28;01mNone\u001b[39;00m:\n\u001b[1;32m    349\u001b[0m     sample_weight \u001b[38;5;241m=\u001b[39m _check_sample_weight(sample_weight, X)\n",
      "File \u001b[0;32m~/anaconda3/lib/python3.11/site-packages/sklearn/base.py:584\u001b[0m, in \u001b[0;36mBaseEstimator._validate_data\u001b[0;34m(self, X, y, reset, validate_separately, **check_params)\u001b[0m\n\u001b[1;32m    582\u001b[0m         y \u001b[38;5;241m=\u001b[39m check_array(y, input_name\u001b[38;5;241m=\u001b[39m\u001b[38;5;124m\"\u001b[39m\u001b[38;5;124my\u001b[39m\u001b[38;5;124m\"\u001b[39m, \u001b[38;5;241m*\u001b[39m\u001b[38;5;241m*\u001b[39mcheck_y_params)\n\u001b[1;32m    583\u001b[0m     \u001b[38;5;28;01melse\u001b[39;00m:\n\u001b[0;32m--> 584\u001b[0m         X, y \u001b[38;5;241m=\u001b[39m check_X_y(X, y, \u001b[38;5;241m*\u001b[39m\u001b[38;5;241m*\u001b[39mcheck_params)\n\u001b[1;32m    585\u001b[0m     out \u001b[38;5;241m=\u001b[39m X, y\n\u001b[1;32m    587\u001b[0m \u001b[38;5;28;01mif\u001b[39;00m \u001b[38;5;129;01mnot\u001b[39;00m no_val_X \u001b[38;5;129;01mand\u001b[39;00m check_params\u001b[38;5;241m.\u001b[39mget(\u001b[38;5;124m\"\u001b[39m\u001b[38;5;124mensure_2d\u001b[39m\u001b[38;5;124m\"\u001b[39m, \u001b[38;5;28;01mTrue\u001b[39;00m):\n",
      "File \u001b[0;32m~/anaconda3/lib/python3.11/site-packages/sklearn/utils/validation.py:1106\u001b[0m, in \u001b[0;36mcheck_X_y\u001b[0;34m(X, y, accept_sparse, accept_large_sparse, dtype, order, copy, force_all_finite, ensure_2d, allow_nd, multi_output, ensure_min_samples, ensure_min_features, y_numeric, estimator)\u001b[0m\n\u001b[1;32m   1101\u001b[0m         estimator_name \u001b[38;5;241m=\u001b[39m _check_estimator_name(estimator)\n\u001b[1;32m   1102\u001b[0m     \u001b[38;5;28;01mraise\u001b[39;00m \u001b[38;5;167;01mValueError\u001b[39;00m(\n\u001b[1;32m   1103\u001b[0m         \u001b[38;5;124mf\u001b[39m\u001b[38;5;124m\"\u001b[39m\u001b[38;5;132;01m{\u001b[39;00mestimator_name\u001b[38;5;132;01m}\u001b[39;00m\u001b[38;5;124m requires y to be passed, but the target y is None\u001b[39m\u001b[38;5;124m\"\u001b[39m\n\u001b[1;32m   1104\u001b[0m     )\n\u001b[0;32m-> 1106\u001b[0m X \u001b[38;5;241m=\u001b[39m check_array(\n\u001b[1;32m   1107\u001b[0m     X,\n\u001b[1;32m   1108\u001b[0m     accept_sparse\u001b[38;5;241m=\u001b[39maccept_sparse,\n\u001b[1;32m   1109\u001b[0m     accept_large_sparse\u001b[38;5;241m=\u001b[39maccept_large_sparse,\n\u001b[1;32m   1110\u001b[0m     dtype\u001b[38;5;241m=\u001b[39mdtype,\n\u001b[1;32m   1111\u001b[0m     order\u001b[38;5;241m=\u001b[39morder,\n\u001b[1;32m   1112\u001b[0m     copy\u001b[38;5;241m=\u001b[39mcopy,\n\u001b[1;32m   1113\u001b[0m     force_all_finite\u001b[38;5;241m=\u001b[39mforce_all_finite,\n\u001b[1;32m   1114\u001b[0m     ensure_2d\u001b[38;5;241m=\u001b[39mensure_2d,\n\u001b[1;32m   1115\u001b[0m     allow_nd\u001b[38;5;241m=\u001b[39mallow_nd,\n\u001b[1;32m   1116\u001b[0m     ensure_min_samples\u001b[38;5;241m=\u001b[39mensure_min_samples,\n\u001b[1;32m   1117\u001b[0m     ensure_min_features\u001b[38;5;241m=\u001b[39mensure_min_features,\n\u001b[1;32m   1118\u001b[0m     estimator\u001b[38;5;241m=\u001b[39mestimator,\n\u001b[1;32m   1119\u001b[0m     input_name\u001b[38;5;241m=\u001b[39m\u001b[38;5;124m\"\u001b[39m\u001b[38;5;124mX\u001b[39m\u001b[38;5;124m\"\u001b[39m,\n\u001b[1;32m   1120\u001b[0m )\n\u001b[1;32m   1122\u001b[0m y \u001b[38;5;241m=\u001b[39m _check_y(y, multi_output\u001b[38;5;241m=\u001b[39mmulti_output, y_numeric\u001b[38;5;241m=\u001b[39my_numeric, estimator\u001b[38;5;241m=\u001b[39mestimator)\n\u001b[1;32m   1124\u001b[0m check_consistent_length(X, y)\n",
      "File \u001b[0;32m~/anaconda3/lib/python3.11/site-packages/sklearn/utils/validation.py:879\u001b[0m, in \u001b[0;36mcheck_array\u001b[0;34m(array, accept_sparse, accept_large_sparse, dtype, order, copy, force_all_finite, ensure_2d, allow_nd, ensure_min_samples, ensure_min_features, estimator, input_name)\u001b[0m\n\u001b[1;32m    877\u001b[0m         array \u001b[38;5;241m=\u001b[39m xp\u001b[38;5;241m.\u001b[39mastype(array, dtype, copy\u001b[38;5;241m=\u001b[39m\u001b[38;5;28;01mFalse\u001b[39;00m)\n\u001b[1;32m    878\u001b[0m     \u001b[38;5;28;01melse\u001b[39;00m:\n\u001b[0;32m--> 879\u001b[0m         array \u001b[38;5;241m=\u001b[39m _asarray_with_order(array, order\u001b[38;5;241m=\u001b[39morder, dtype\u001b[38;5;241m=\u001b[39mdtype, xp\u001b[38;5;241m=\u001b[39mxp)\n\u001b[1;32m    880\u001b[0m \u001b[38;5;28;01mexcept\u001b[39;00m ComplexWarning \u001b[38;5;28;01mas\u001b[39;00m complex_warning:\n\u001b[1;32m    881\u001b[0m     \u001b[38;5;28;01mraise\u001b[39;00m \u001b[38;5;167;01mValueError\u001b[39;00m(\n\u001b[1;32m    882\u001b[0m         \u001b[38;5;124m\"\u001b[39m\u001b[38;5;124mComplex data not supported\u001b[39m\u001b[38;5;130;01m\\n\u001b[39;00m\u001b[38;5;132;01m{}\u001b[39;00m\u001b[38;5;130;01m\\n\u001b[39;00m\u001b[38;5;124m\"\u001b[39m\u001b[38;5;241m.\u001b[39mformat(array)\n\u001b[1;32m    883\u001b[0m     ) \u001b[38;5;28;01mfrom\u001b[39;00m \u001b[38;5;21;01mcomplex_warning\u001b[39;00m\n",
      "File \u001b[0;32m~/anaconda3/lib/python3.11/site-packages/sklearn/utils/_array_api.py:185\u001b[0m, in \u001b[0;36m_asarray_with_order\u001b[0;34m(array, dtype, order, copy, xp)\u001b[0m\n\u001b[1;32m    182\u001b[0m     xp, _ \u001b[38;5;241m=\u001b[39m get_namespace(array)\n\u001b[1;32m    183\u001b[0m \u001b[38;5;28;01mif\u001b[39;00m xp\u001b[38;5;241m.\u001b[39m\u001b[38;5;18m__name__\u001b[39m \u001b[38;5;129;01min\u001b[39;00m {\u001b[38;5;124m\"\u001b[39m\u001b[38;5;124mnumpy\u001b[39m\u001b[38;5;124m\"\u001b[39m, \u001b[38;5;124m\"\u001b[39m\u001b[38;5;124mnumpy.array_api\u001b[39m\u001b[38;5;124m\"\u001b[39m}:\n\u001b[1;32m    184\u001b[0m     \u001b[38;5;66;03m# Use NumPy API to support order\u001b[39;00m\n\u001b[0;32m--> 185\u001b[0m     array \u001b[38;5;241m=\u001b[39m numpy\u001b[38;5;241m.\u001b[39masarray(array, order\u001b[38;5;241m=\u001b[39morder, dtype\u001b[38;5;241m=\u001b[39mdtype)\n\u001b[1;32m    186\u001b[0m     \u001b[38;5;28;01mreturn\u001b[39;00m xp\u001b[38;5;241m.\u001b[39masarray(array, copy\u001b[38;5;241m=\u001b[39mcopy)\n\u001b[1;32m    187\u001b[0m \u001b[38;5;28;01melse\u001b[39;00m:\n",
      "\u001b[0;31mValueError\u001b[0m: could not convert string to float: 'smoke'"
     ]
    }
   ],
   "source": [
    "#Build RF model\n",
    "rf = RandomForestClassifier()\n",
    "rf.fit(X_train, y_train)"
   ]
  },
  {
   "cell_type": "code",
   "execution_count": 17,
   "id": "b19caa97-5400-4dc3-9f75-549012c5daa9",
   "metadata": {},
   "outputs": [],
   "source": []
  },
  {
   "cell_type": "code",
   "execution_count": 18,
   "id": "c8efb0fc-d2a5-42e0-8ec9-d3c846a5cc30",
   "metadata": {},
   "outputs": [
    {
     "name": "stdout",
     "output_type": "stream",
     "text": [
      "Accuracy: 0.5833333333333334\n"
     ]
    }
   ],
   "source": [
    "accuracy=accuracy_score(y_test, y_pred)\n",
    "print(\"Accuracy:\", accuracy)"
   ]
  },
  {
   "cell_type": "code",
   "execution_count": 25,
   "id": "c63bc90f-e5ca-4759-98dd-43f4dfe25b76",
   "metadata": {},
   "outputs": [],
   "source": [
    "#Low accuracy probably due to the fact that it's trying to predict individual sample groups intead of \"smoke\" vs \"not-smoked\"\n",
    "#Need to make new column in CSV for smoke status and test on that instead\n",
    "#print(data)\n",
    "for index, row in data.iterrows():\n",
    "    sample_value = str(row['sample'])  # Ensure string conversion\n",
    "    if sample_value[0] == 's':\n",
    "       data.loc[index, 'treatment'] = 'smoke'  # Assign to a specific row\n",
    "    else:\n",
    "       data.loc[index, 'treatment'] = 'control'"
   ]
  },
  {
   "cell_type": "code",
   "execution_count": 27,
   "id": "312a77e4-6a8c-48a8-b6c8-231150a047dd",
   "metadata": {},
   "outputs": [],
   "source": [
    "#print(data)"
   ]
  },
  {
   "cell_type": "code",
   "execution_count": 47,
   "id": "7af806b8-a3dc-4160-bd3f-fc2ef68f5850",
   "metadata": {},
   "outputs": [],
   "source": [
    "#Try again\n",
    "y=np.array(data['treatment'])\n",
    "X=np.array(data.drop(['sample','treatment'], axis=1))\n",
    "\n",
    "#Split data in to train and testing sets\n",
    "X_train, X_test, y_train, y_test = train_test_split(X, y, test_size=0.2)"
   ]
  },
  {
   "cell_type": "code",
   "execution_count": 48,
   "id": "c2722f3b-2511-4fc2-b6fa-a5436dddaad9",
   "metadata": {},
   "outputs": [
    {
     "data": {
      "text/html": [
       "<style>#sk-container-id-4 {color: black;background-color: white;}#sk-container-id-4 pre{padding: 0;}#sk-container-id-4 div.sk-toggleable {background-color: white;}#sk-container-id-4 label.sk-toggleable__label {cursor: pointer;display: block;width: 100%;margin-bottom: 0;padding: 0.3em;box-sizing: border-box;text-align: center;}#sk-container-id-4 label.sk-toggleable__label-arrow:before {content: \"▸\";float: left;margin-right: 0.25em;color: #696969;}#sk-container-id-4 label.sk-toggleable__label-arrow:hover:before {color: black;}#sk-container-id-4 div.sk-estimator:hover label.sk-toggleable__label-arrow:before {color: black;}#sk-container-id-4 div.sk-toggleable__content {max-height: 0;max-width: 0;overflow: hidden;text-align: left;background-color: #f0f8ff;}#sk-container-id-4 div.sk-toggleable__content pre {margin: 0.2em;color: black;border-radius: 0.25em;background-color: #f0f8ff;}#sk-container-id-4 input.sk-toggleable__control:checked~div.sk-toggleable__content {max-height: 200px;max-width: 100%;overflow: auto;}#sk-container-id-4 input.sk-toggleable__control:checked~label.sk-toggleable__label-arrow:before {content: \"▾\";}#sk-container-id-4 div.sk-estimator input.sk-toggleable__control:checked~label.sk-toggleable__label {background-color: #d4ebff;}#sk-container-id-4 div.sk-label input.sk-toggleable__control:checked~label.sk-toggleable__label {background-color: #d4ebff;}#sk-container-id-4 input.sk-hidden--visually {border: 0;clip: rect(1px 1px 1px 1px);clip: rect(1px, 1px, 1px, 1px);height: 1px;margin: -1px;overflow: hidden;padding: 0;position: absolute;width: 1px;}#sk-container-id-4 div.sk-estimator {font-family: monospace;background-color: #f0f8ff;border: 1px dotted black;border-radius: 0.25em;box-sizing: border-box;margin-bottom: 0.5em;}#sk-container-id-4 div.sk-estimator:hover {background-color: #d4ebff;}#sk-container-id-4 div.sk-parallel-item::after {content: \"\";width: 100%;border-bottom: 1px solid gray;flex-grow: 1;}#sk-container-id-4 div.sk-label:hover label.sk-toggleable__label {background-color: #d4ebff;}#sk-container-id-4 div.sk-serial::before {content: \"\";position: absolute;border-left: 1px solid gray;box-sizing: border-box;top: 0;bottom: 0;left: 50%;z-index: 0;}#sk-container-id-4 div.sk-serial {display: flex;flex-direction: column;align-items: center;background-color: white;padding-right: 0.2em;padding-left: 0.2em;position: relative;}#sk-container-id-4 div.sk-item {position: relative;z-index: 1;}#sk-container-id-4 div.sk-parallel {display: flex;align-items: stretch;justify-content: center;background-color: white;position: relative;}#sk-container-id-4 div.sk-item::before, #sk-container-id-4 div.sk-parallel-item::before {content: \"\";position: absolute;border-left: 1px solid gray;box-sizing: border-box;top: 0;bottom: 0;left: 50%;z-index: -1;}#sk-container-id-4 div.sk-parallel-item {display: flex;flex-direction: column;z-index: 1;position: relative;background-color: white;}#sk-container-id-4 div.sk-parallel-item:first-child::after {align-self: flex-end;width: 50%;}#sk-container-id-4 div.sk-parallel-item:last-child::after {align-self: flex-start;width: 50%;}#sk-container-id-4 div.sk-parallel-item:only-child::after {width: 0;}#sk-container-id-4 div.sk-dashed-wrapped {border: 1px dashed gray;margin: 0 0.4em 0.5em 0.4em;box-sizing: border-box;padding-bottom: 0.4em;background-color: white;}#sk-container-id-4 div.sk-label label {font-family: monospace;font-weight: bold;display: inline-block;line-height: 1.2em;}#sk-container-id-4 div.sk-label-container {text-align: center;}#sk-container-id-4 div.sk-container {/* jupyter's `normalize.less` sets `[hidden] { display: none; }` but bootstrap.min.css set `[hidden] { display: none !important; }` so we also need the `!important` here to be able to override the default hidden behavior on the sphinx rendered scikit-learn.org. See: https://github.com/scikit-learn/scikit-learn/issues/21755 */display: inline-block !important;position: relative;}#sk-container-id-4 div.sk-text-repr-fallback {display: none;}</style><div id=\"sk-container-id-4\" class=\"sk-top-container\"><div class=\"sk-text-repr-fallback\"><pre>RandomForestClassifier()</pre><b>In a Jupyter environment, please rerun this cell to show the HTML representation or trust the notebook. <br />On GitHub, the HTML representation is unable to render, please try loading this page with nbviewer.org.</b></div><div class=\"sk-container\" hidden><div class=\"sk-item\"><div class=\"sk-estimator sk-toggleable\"><input class=\"sk-toggleable__control sk-hidden--visually\" id=\"sk-estimator-id-4\" type=\"checkbox\" checked><label for=\"sk-estimator-id-4\" class=\"sk-toggleable__label sk-toggleable__label-arrow\">RandomForestClassifier</label><div class=\"sk-toggleable__content\"><pre>RandomForestClassifier()</pre></div></div></div></div></div>"
      ],
      "text/plain": [
       "RandomForestClassifier()"
      ]
     },
     "execution_count": 48,
     "metadata": {},
     "output_type": "execute_result"
    }
   ],
   "source": [
    "#Build RF model\n",
    "rf = RandomForestClassifier()\n",
    "rf.fit(X_train, y_train)"
   ]
  },
  {
   "cell_type": "code",
   "execution_count": 49,
   "id": "ecbb6f22-a8c7-405f-a861-920b2fc11e4f",
   "metadata": {},
   "outputs": [],
   "source": [
    "y_pred=rf.predict(X_test)"
   ]
  },
  {
   "cell_type": "code",
   "execution_count": 50,
   "id": "b34a7623-8ce2-462b-9102-7ba49552dd88",
   "metadata": {},
   "outputs": [
    {
     "name": "stdout",
     "output_type": "stream",
     "text": [
      "Accuracy: 0.9166666666666666\n"
     ]
    }
   ],
   "source": [
    "accuracy=accuracy_score(y_test, y_pred)\n",
    "print(\"Accuracy:\", accuracy)"
   ]
  },
  {
   "cell_type": "code",
   "execution_count": 51,
   "id": "a11bb3bb-46ca-4184-896e-c103baf9a05d",
   "metadata": {},
   "outputs": [],
   "source": [
    "#MUUUUCH better\n",
    "#Now need boruta testing to weed out features\n",
    "from boruta import BorutaPy"
   ]
  },
  {
   "cell_type": "code",
   "execution_count": 54,
   "id": "30d25c15-fca4-4c01-a6b2-013ff1b0fdbe",
   "metadata": {},
   "outputs": [],
   "source": [
    "#Have to change definitions because BorutaPy uses an outdated version of numpy\n",
    "np.int = np.int32\n",
    "np.float = np.float64\n",
    "np.bool=np.bool_\n",
    "\n",
    "#Define feature selection method\n",
    "selector=BorutaPy(rf, n_estimators='auto', verbose=2, random_state=1)"
   ]
  },
  {
   "cell_type": "code",
   "execution_count": 55,
   "id": "ac5b4ccd-24b3-419a-bc63-e74388f8b9d1",
   "metadata": {},
   "outputs": [
    {
     "name": "stdout",
     "output_type": "stream",
     "text": [
      "Iteration: \t1 / 100\n",
      "Confirmed: \t0\n",
      "Tentative: \t55450\n",
      "Rejected: \t0\n",
      "Iteration: \t2 / 100\n",
      "Confirmed: \t0\n",
      "Tentative: \t55450\n",
      "Rejected: \t0\n",
      "Iteration: \t3 / 100\n",
      "Confirmed: \t0\n",
      "Tentative: \t55450\n",
      "Rejected: \t0\n",
      "Iteration: \t4 / 100\n",
      "Confirmed: \t0\n",
      "Tentative: \t55450\n",
      "Rejected: \t0\n",
      "Iteration: \t5 / 100\n",
      "Confirmed: \t0\n",
      "Tentative: \t55450\n",
      "Rejected: \t0\n",
      "Iteration: \t6 / 100\n",
      "Confirmed: \t0\n",
      "Tentative: \t55450\n",
      "Rejected: \t0\n",
      "Iteration: \t7 / 100\n",
      "Confirmed: \t0\n",
      "Tentative: \t55450\n",
      "Rejected: \t0\n",
      "Iteration: \t8 / 100\n",
      "Confirmed: \t0\n",
      "Tentative: \t731\n",
      "Rejected: \t54719\n",
      "Iteration: \t9 / 100\n",
      "Confirmed: \t99\n",
      "Tentative: \t632\n",
      "Rejected: \t54719\n",
      "Iteration: \t10 / 100\n",
      "Confirmed: \t99\n",
      "Tentative: \t632\n",
      "Rejected: \t54719\n",
      "Iteration: \t11 / 100\n",
      "Confirmed: \t99\n",
      "Tentative: \t632\n",
      "Rejected: \t54719\n",
      "Iteration: \t12 / 100\n",
      "Confirmed: \t110\n",
      "Tentative: \t458\n",
      "Rejected: \t54882\n",
      "Iteration: \t13 / 100\n",
      "Confirmed: \t110\n",
      "Tentative: \t458\n",
      "Rejected: \t54882\n",
      "Iteration: \t14 / 100\n",
      "Confirmed: \t110\n",
      "Tentative: \t458\n",
      "Rejected: \t54882\n",
      "Iteration: \t15 / 100\n",
      "Confirmed: \t110\n",
      "Tentative: \t458\n",
      "Rejected: \t54882\n",
      "Iteration: \t16 / 100\n",
      "Confirmed: \t115\n",
      "Tentative: \t375\n",
      "Rejected: \t54960\n",
      "Iteration: \t17 / 100\n",
      "Confirmed: \t115\n",
      "Tentative: \t375\n",
      "Rejected: \t54960\n",
      "Iteration: \t18 / 100\n",
      "Confirmed: \t115\n",
      "Tentative: \t375\n",
      "Rejected: \t54960\n",
      "Iteration: \t19 / 100\n",
      "Confirmed: \t117\n",
      "Tentative: \t306\n",
      "Rejected: \t55027\n",
      "Iteration: \t20 / 100\n",
      "Confirmed: \t117\n",
      "Tentative: \t306\n",
      "Rejected: \t55027\n",
      "Iteration: \t21 / 100\n",
      "Confirmed: \t117\n",
      "Tentative: \t306\n",
      "Rejected: \t55027\n",
      "Iteration: \t22 / 100\n",
      "Confirmed: \t118\n",
      "Tentative: \t268\n",
      "Rejected: \t55064\n",
      "Iteration: \t23 / 100\n",
      "Confirmed: \t118\n",
      "Tentative: \t268\n",
      "Rejected: \t55064\n",
      "Iteration: \t24 / 100\n",
      "Confirmed: \t118\n",
      "Tentative: \t268\n",
      "Rejected: \t55064\n",
      "Iteration: \t25 / 100\n",
      "Confirmed: \t118\n",
      "Tentative: \t268\n",
      "Rejected: \t55064\n",
      "Iteration: \t26 / 100\n",
      "Confirmed: \t119\n",
      "Tentative: \t240\n",
      "Rejected: \t55091\n",
      "Iteration: \t27 / 100\n",
      "Confirmed: \t119\n",
      "Tentative: \t240\n",
      "Rejected: \t55091\n",
      "Iteration: \t28 / 100\n",
      "Confirmed: \t119\n",
      "Tentative: \t240\n",
      "Rejected: \t55091\n",
      "Iteration: \t29 / 100\n",
      "Confirmed: \t119\n",
      "Tentative: \t225\n",
      "Rejected: \t55106\n",
      "Iteration: \t30 / 100\n",
      "Confirmed: \t119\n",
      "Tentative: \t225\n",
      "Rejected: \t55106\n",
      "Iteration: \t31 / 100\n",
      "Confirmed: \t119\n",
      "Tentative: \t225\n",
      "Rejected: \t55106\n",
      "Iteration: \t32 / 100\n",
      "Confirmed: \t120\n",
      "Tentative: \t200\n",
      "Rejected: \t55130\n",
      "Iteration: \t33 / 100\n",
      "Confirmed: \t120\n",
      "Tentative: \t200\n",
      "Rejected: \t55130\n",
      "Iteration: \t34 / 100\n",
      "Confirmed: \t120\n",
      "Tentative: \t174\n",
      "Rejected: \t55156\n",
      "Iteration: \t35 / 100\n",
      "Confirmed: \t120\n",
      "Tentative: \t174\n",
      "Rejected: \t55156\n",
      "Iteration: \t36 / 100\n",
      "Confirmed: \t120\n",
      "Tentative: \t174\n",
      "Rejected: \t55156\n",
      "Iteration: \t37 / 100\n",
      "Confirmed: \t120\n",
      "Tentative: \t158\n",
      "Rejected: \t55172\n",
      "Iteration: \t38 / 100\n",
      "Confirmed: \t120\n",
      "Tentative: \t158\n",
      "Rejected: \t55172\n",
      "Iteration: \t39 / 100\n",
      "Confirmed: \t120\n",
      "Tentative: \t158\n",
      "Rejected: \t55172\n",
      "Iteration: \t40 / 100\n",
      "Confirmed: \t120\n",
      "Tentative: \t142\n",
      "Rejected: \t55188\n",
      "Iteration: \t41 / 100\n",
      "Confirmed: \t120\n",
      "Tentative: \t142\n",
      "Rejected: \t55188\n",
      "Iteration: \t42 / 100\n",
      "Confirmed: \t120\n",
      "Tentative: \t142\n",
      "Rejected: \t55188\n",
      "Iteration: \t43 / 100\n",
      "Confirmed: \t120\n",
      "Tentative: \t133\n",
      "Rejected: \t55197\n",
      "Iteration: \t44 / 100\n",
      "Confirmed: \t120\n",
      "Tentative: \t133\n",
      "Rejected: \t55197\n",
      "Iteration: \t45 / 100\n",
      "Confirmed: \t120\n",
      "Tentative: \t133\n",
      "Rejected: \t55197\n",
      "Iteration: \t46 / 100\n",
      "Confirmed: \t120\n",
      "Tentative: \t129\n",
      "Rejected: \t55201\n",
      "Iteration: \t47 / 100\n",
      "Confirmed: \t120\n",
      "Tentative: \t129\n",
      "Rejected: \t55201\n",
      "Iteration: \t48 / 100\n",
      "Confirmed: \t120\n",
      "Tentative: \t129\n",
      "Rejected: \t55201\n",
      "Iteration: \t49 / 100\n",
      "Confirmed: \t120\n",
      "Tentative: \t123\n",
      "Rejected: \t55207\n",
      "Iteration: \t50 / 100\n",
      "Confirmed: \t120\n",
      "Tentative: \t123\n",
      "Rejected: \t55207\n",
      "Iteration: \t51 / 100\n",
      "Confirmed: \t120\n",
      "Tentative: \t112\n",
      "Rejected: \t55218\n",
      "Iteration: \t52 / 100\n",
      "Confirmed: \t120\n",
      "Tentative: \t112\n",
      "Rejected: \t55218\n",
      "Iteration: \t53 / 100\n",
      "Confirmed: \t120\n",
      "Tentative: \t112\n",
      "Rejected: \t55218\n",
      "Iteration: \t54 / 100\n",
      "Confirmed: \t120\n",
      "Tentative: \t106\n",
      "Rejected: \t55224\n",
      "Iteration: \t55 / 100\n",
      "Confirmed: \t120\n",
      "Tentative: \t106\n",
      "Rejected: \t55224\n",
      "Iteration: \t56 / 100\n",
      "Confirmed: \t120\n",
      "Tentative: \t106\n",
      "Rejected: \t55224\n",
      "Iteration: \t57 / 100\n",
      "Confirmed: \t120\n",
      "Tentative: \t94\n",
      "Rejected: \t55236\n",
      "Iteration: \t58 / 100\n",
      "Confirmed: \t120\n",
      "Tentative: \t94\n",
      "Rejected: \t55236\n",
      "Iteration: \t59 / 100\n",
      "Confirmed: \t120\n",
      "Tentative: \t84\n",
      "Rejected: \t55246\n",
      "Iteration: \t60 / 100\n",
      "Confirmed: \t120\n",
      "Tentative: \t84\n",
      "Rejected: \t55246\n",
      "Iteration: \t61 / 100\n",
      "Confirmed: \t120\n",
      "Tentative: \t84\n",
      "Rejected: \t55246\n",
      "Iteration: \t62 / 100\n",
      "Confirmed: \t120\n",
      "Tentative: \t79\n",
      "Rejected: \t55251\n",
      "Iteration: \t63 / 100\n",
      "Confirmed: \t120\n",
      "Tentative: \t79\n",
      "Rejected: \t55251\n",
      "Iteration: \t64 / 100\n",
      "Confirmed: \t120\n",
      "Tentative: \t79\n",
      "Rejected: \t55251\n",
      "Iteration: \t65 / 100\n",
      "Confirmed: \t120\n",
      "Tentative: \t76\n",
      "Rejected: \t55254\n",
      "Iteration: \t66 / 100\n",
      "Confirmed: \t120\n",
      "Tentative: \t76\n",
      "Rejected: \t55254\n",
      "Iteration: \t67 / 100\n",
      "Confirmed: \t120\n",
      "Tentative: \t75\n",
      "Rejected: \t55255\n",
      "Iteration: \t68 / 100\n",
      "Confirmed: \t120\n",
      "Tentative: \t75\n",
      "Rejected: \t55255\n",
      "Iteration: \t69 / 100\n",
      "Confirmed: \t120\n",
      "Tentative: \t75\n",
      "Rejected: \t55255\n",
      "Iteration: \t70 / 100\n",
      "Confirmed: \t120\n",
      "Tentative: \t72\n",
      "Rejected: \t55258\n",
      "Iteration: \t71 / 100\n",
      "Confirmed: \t120\n",
      "Tentative: \t72\n",
      "Rejected: \t55258\n",
      "Iteration: \t72 / 100\n",
      "Confirmed: \t120\n",
      "Tentative: \t70\n",
      "Rejected: \t55260\n",
      "Iteration: \t73 / 100\n",
      "Confirmed: \t120\n",
      "Tentative: \t70\n",
      "Rejected: \t55260\n",
      "Iteration: \t74 / 100\n",
      "Confirmed: \t120\n",
      "Tentative: \t70\n",
      "Rejected: \t55260\n",
      "Iteration: \t75 / 100\n",
      "Confirmed: \t120\n",
      "Tentative: \t66\n",
      "Rejected: \t55264\n",
      "Iteration: \t76 / 100\n",
      "Confirmed: \t120\n",
      "Tentative: \t66\n",
      "Rejected: \t55264\n",
      "Iteration: \t77 / 100\n",
      "Confirmed: \t120\n",
      "Tentative: \t61\n",
      "Rejected: \t55269\n",
      "Iteration: \t78 / 100\n",
      "Confirmed: \t120\n",
      "Tentative: \t61\n",
      "Rejected: \t55269\n",
      "Iteration: \t79 / 100\n",
      "Confirmed: \t120\n",
      "Tentative: \t61\n",
      "Rejected: \t55269\n",
      "Iteration: \t80 / 100\n",
      "Confirmed: \t120\n",
      "Tentative: \t59\n",
      "Rejected: \t55271\n",
      "Iteration: \t81 / 100\n",
      "Confirmed: \t120\n",
      "Tentative: \t59\n",
      "Rejected: \t55271\n",
      "Iteration: \t82 / 100\n",
      "Confirmed: \t120\n",
      "Tentative: \t59\n",
      "Rejected: \t55271\n",
      "Iteration: \t83 / 100\n",
      "Confirmed: \t120\n",
      "Tentative: \t55\n",
      "Rejected: \t55275\n",
      "Iteration: \t84 / 100\n",
      "Confirmed: \t120\n",
      "Tentative: \t55\n",
      "Rejected: \t55275\n",
      "Iteration: \t85 / 100\n",
      "Confirmed: \t120\n",
      "Tentative: \t54\n",
      "Rejected: \t55276\n",
      "Iteration: \t86 / 100\n",
      "Confirmed: \t120\n",
      "Tentative: \t54\n",
      "Rejected: \t55276\n",
      "Iteration: \t87 / 100\n",
      "Confirmed: \t120\n",
      "Tentative: \t54\n",
      "Rejected: \t55276\n",
      "Iteration: \t88 / 100\n",
      "Confirmed: \t120\n",
      "Tentative: \t53\n",
      "Rejected: \t55277\n",
      "Iteration: \t89 / 100\n",
      "Confirmed: \t120\n",
      "Tentative: \t53\n",
      "Rejected: \t55277\n",
      "Iteration: \t90 / 100\n",
      "Confirmed: \t120\n",
      "Tentative: \t50\n",
      "Rejected: \t55280\n",
      "Iteration: \t91 / 100\n",
      "Confirmed: \t120\n",
      "Tentative: \t50\n",
      "Rejected: \t55280\n",
      "Iteration: \t92 / 100\n",
      "Confirmed: \t120\n",
      "Tentative: \t50\n",
      "Rejected: \t55280\n",
      "Iteration: \t93 / 100\n",
      "Confirmed: \t120\n",
      "Tentative: \t49\n",
      "Rejected: \t55281\n",
      "Iteration: \t94 / 100\n",
      "Confirmed: \t120\n",
      "Tentative: \t49\n",
      "Rejected: \t55281\n",
      "Iteration: \t95 / 100\n",
      "Confirmed: \t120\n",
      "Tentative: \t46\n",
      "Rejected: \t55284\n",
      "Iteration: \t96 / 100\n",
      "Confirmed: \t120\n",
      "Tentative: \t46\n",
      "Rejected: \t55284\n",
      "Iteration: \t97 / 100\n",
      "Confirmed: \t120\n",
      "Tentative: \t46\n",
      "Rejected: \t55284\n",
      "Iteration: \t98 / 100\n",
      "Confirmed: \t120\n",
      "Tentative: \t45\n",
      "Rejected: \t55285\n",
      "Iteration: \t99 / 100\n",
      "Confirmed: \t120\n",
      "Tentative: \t45\n",
      "Rejected: \t55285\n",
      "\n",
      "\n",
      "BorutaPy finished running.\n",
      "\n",
      "Iteration: \t100 / 100\n",
      "Confirmed: \t120\n",
      "Tentative: \t5\n",
      "Rejected: \t55285\n"
     ]
    },
    {
     "data": {
      "text/html": [
       "<style>#sk-container-id-5 {color: black;background-color: white;}#sk-container-id-5 pre{padding: 0;}#sk-container-id-5 div.sk-toggleable {background-color: white;}#sk-container-id-5 label.sk-toggleable__label {cursor: pointer;display: block;width: 100%;margin-bottom: 0;padding: 0.3em;box-sizing: border-box;text-align: center;}#sk-container-id-5 label.sk-toggleable__label-arrow:before {content: \"▸\";float: left;margin-right: 0.25em;color: #696969;}#sk-container-id-5 label.sk-toggleable__label-arrow:hover:before {color: black;}#sk-container-id-5 div.sk-estimator:hover label.sk-toggleable__label-arrow:before {color: black;}#sk-container-id-5 div.sk-toggleable__content {max-height: 0;max-width: 0;overflow: hidden;text-align: left;background-color: #f0f8ff;}#sk-container-id-5 div.sk-toggleable__content pre {margin: 0.2em;color: black;border-radius: 0.25em;background-color: #f0f8ff;}#sk-container-id-5 input.sk-toggleable__control:checked~div.sk-toggleable__content {max-height: 200px;max-width: 100%;overflow: auto;}#sk-container-id-5 input.sk-toggleable__control:checked~label.sk-toggleable__label-arrow:before {content: \"▾\";}#sk-container-id-5 div.sk-estimator input.sk-toggleable__control:checked~label.sk-toggleable__label {background-color: #d4ebff;}#sk-container-id-5 div.sk-label input.sk-toggleable__control:checked~label.sk-toggleable__label {background-color: #d4ebff;}#sk-container-id-5 input.sk-hidden--visually {border: 0;clip: rect(1px 1px 1px 1px);clip: rect(1px, 1px, 1px, 1px);height: 1px;margin: -1px;overflow: hidden;padding: 0;position: absolute;width: 1px;}#sk-container-id-5 div.sk-estimator {font-family: monospace;background-color: #f0f8ff;border: 1px dotted black;border-radius: 0.25em;box-sizing: border-box;margin-bottom: 0.5em;}#sk-container-id-5 div.sk-estimator:hover {background-color: #d4ebff;}#sk-container-id-5 div.sk-parallel-item::after {content: \"\";width: 100%;border-bottom: 1px solid gray;flex-grow: 1;}#sk-container-id-5 div.sk-label:hover label.sk-toggleable__label {background-color: #d4ebff;}#sk-container-id-5 div.sk-serial::before {content: \"\";position: absolute;border-left: 1px solid gray;box-sizing: border-box;top: 0;bottom: 0;left: 50%;z-index: 0;}#sk-container-id-5 div.sk-serial {display: flex;flex-direction: column;align-items: center;background-color: white;padding-right: 0.2em;padding-left: 0.2em;position: relative;}#sk-container-id-5 div.sk-item {position: relative;z-index: 1;}#sk-container-id-5 div.sk-parallel {display: flex;align-items: stretch;justify-content: center;background-color: white;position: relative;}#sk-container-id-5 div.sk-item::before, #sk-container-id-5 div.sk-parallel-item::before {content: \"\";position: absolute;border-left: 1px solid gray;box-sizing: border-box;top: 0;bottom: 0;left: 50%;z-index: -1;}#sk-container-id-5 div.sk-parallel-item {display: flex;flex-direction: column;z-index: 1;position: relative;background-color: white;}#sk-container-id-5 div.sk-parallel-item:first-child::after {align-self: flex-end;width: 50%;}#sk-container-id-5 div.sk-parallel-item:last-child::after {align-self: flex-start;width: 50%;}#sk-container-id-5 div.sk-parallel-item:only-child::after {width: 0;}#sk-container-id-5 div.sk-dashed-wrapped {border: 1px dashed gray;margin: 0 0.4em 0.5em 0.4em;box-sizing: border-box;padding-bottom: 0.4em;background-color: white;}#sk-container-id-5 div.sk-label label {font-family: monospace;font-weight: bold;display: inline-block;line-height: 1.2em;}#sk-container-id-5 div.sk-label-container {text-align: center;}#sk-container-id-5 div.sk-container {/* jupyter's `normalize.less` sets `[hidden] { display: none; }` but bootstrap.min.css set `[hidden] { display: none !important; }` so we also need the `!important` here to be able to override the default hidden behavior on the sphinx rendered scikit-learn.org. See: https://github.com/scikit-learn/scikit-learn/issues/21755 */display: inline-block !important;position: relative;}#sk-container-id-5 div.sk-text-repr-fallback {display: none;}</style><div id=\"sk-container-id-5\" class=\"sk-top-container\"><div class=\"sk-text-repr-fallback\"><pre>BorutaPy(estimator=RandomForestClassifier(n_estimators=181,\n",
       "                                          random_state=RandomState(MT19937) at 0x7F10A62A2740),\n",
       "         n_estimators=&#x27;auto&#x27;,\n",
       "         random_state=RandomState(MT19937) at 0x7F10A62A2740, verbose=2)</pre><b>In a Jupyter environment, please rerun this cell to show the HTML representation or trust the notebook. <br />On GitHub, the HTML representation is unable to render, please try loading this page with nbviewer.org.</b></div><div class=\"sk-container\" hidden><div class=\"sk-item sk-dashed-wrapped\"><div class=\"sk-label-container\"><div class=\"sk-label sk-toggleable\"><input class=\"sk-toggleable__control sk-hidden--visually\" id=\"sk-estimator-id-5\" type=\"checkbox\" ><label for=\"sk-estimator-id-5\" class=\"sk-toggleable__label sk-toggleable__label-arrow\">BorutaPy</label><div class=\"sk-toggleable__content\"><pre>BorutaPy(estimator=RandomForestClassifier(n_estimators=181,\n",
       "                                          random_state=RandomState(MT19937) at 0x7F10A62A2740),\n",
       "         n_estimators=&#x27;auto&#x27;,\n",
       "         random_state=RandomState(MT19937) at 0x7F10A62A2740, verbose=2)</pre></div></div></div><div class=\"sk-parallel\"><div class=\"sk-parallel-item\"><div class=\"sk-item\"><div class=\"sk-label-container\"><div class=\"sk-label sk-toggleable\"><input class=\"sk-toggleable__control sk-hidden--visually\" id=\"sk-estimator-id-6\" type=\"checkbox\" ><label for=\"sk-estimator-id-6\" class=\"sk-toggleable__label sk-toggleable__label-arrow\">estimator: RandomForestClassifier</label><div class=\"sk-toggleable__content\"><pre>RandomForestClassifier(n_estimators=181,\n",
       "                       random_state=RandomState(MT19937) at 0x7F10A62A2740)</pre></div></div></div><div class=\"sk-serial\"><div class=\"sk-item\"><div class=\"sk-estimator sk-toggleable\"><input class=\"sk-toggleable__control sk-hidden--visually\" id=\"sk-estimator-id-7\" type=\"checkbox\" ><label for=\"sk-estimator-id-7\" class=\"sk-toggleable__label sk-toggleable__label-arrow\">RandomForestClassifier</label><div class=\"sk-toggleable__content\"><pre>RandomForestClassifier(n_estimators=181,\n",
       "                       random_state=RandomState(MT19937) at 0x7F10A62A2740)</pre></div></div></div></div></div></div></div></div></div></div>"
      ],
      "text/plain": [
       "BorutaPy(estimator=RandomForestClassifier(n_estimators=181,\n",
       "                                          random_state=RandomState(MT19937) at 0x7F10A62A2740),\n",
       "         n_estimators='auto',\n",
       "         random_state=RandomState(MT19937) at 0x7F10A62A2740, verbose=2)"
      ]
     },
     "execution_count": 55,
     "metadata": {},
     "output_type": "execute_result"
    }
   ],
   "source": [
    "#Find relevant features\n",
    "selector.fit(X,y)"
   ]
  },
  {
   "cell_type": "code",
   "execution_count": 57,
   "id": "21b9be5b-8db4-4fbf-80c6-53ff66735ab3",
   "metadata": {},
   "outputs": [
    {
     "data": {
      "text/plain": [
       "array([34554, 34554,   581, ..., 34554,  8506, 34554], dtype=int32)"
      ]
     },
     "execution_count": 57,
     "metadata": {},
     "output_type": "execute_result"
    }
   ],
   "source": [
    "selector.ranking_"
   ]
  },
  {
   "cell_type": "code",
   "execution_count": 58,
   "id": "acfc3752-1823-4e98-b2b3-3c6cdbc221e3",
   "metadata": {},
   "outputs": [],
   "source": [
    "X_filtered = selector.transform(X)"
   ]
  },
  {
   "cell_type": "code",
   "execution_count": 59,
   "id": "e6164d5f-7648-421b-ac59-17b1a26cdbcf",
   "metadata": {},
   "outputs": [],
   "source": [
    "#Split data in to train and testing sets using the new feature list from boruta testing\n",
    "X_train, X_test, y_train, y_test = train_test_split(X_filtered, y, test_size=0.2)"
   ]
  },
  {
   "cell_type": "code",
   "execution_count": 60,
   "id": "23aca25c-142c-42ee-9371-df0b5e6b7c9d",
   "metadata": {},
   "outputs": [
    {
     "data": {
      "text/html": [
       "<style>#sk-container-id-6 {color: black;background-color: white;}#sk-container-id-6 pre{padding: 0;}#sk-container-id-6 div.sk-toggleable {background-color: white;}#sk-container-id-6 label.sk-toggleable__label {cursor: pointer;display: block;width: 100%;margin-bottom: 0;padding: 0.3em;box-sizing: border-box;text-align: center;}#sk-container-id-6 label.sk-toggleable__label-arrow:before {content: \"▸\";float: left;margin-right: 0.25em;color: #696969;}#sk-container-id-6 label.sk-toggleable__label-arrow:hover:before {color: black;}#sk-container-id-6 div.sk-estimator:hover label.sk-toggleable__label-arrow:before {color: black;}#sk-container-id-6 div.sk-toggleable__content {max-height: 0;max-width: 0;overflow: hidden;text-align: left;background-color: #f0f8ff;}#sk-container-id-6 div.sk-toggleable__content pre {margin: 0.2em;color: black;border-radius: 0.25em;background-color: #f0f8ff;}#sk-container-id-6 input.sk-toggleable__control:checked~div.sk-toggleable__content {max-height: 200px;max-width: 100%;overflow: auto;}#sk-container-id-6 input.sk-toggleable__control:checked~label.sk-toggleable__label-arrow:before {content: \"▾\";}#sk-container-id-6 div.sk-estimator input.sk-toggleable__control:checked~label.sk-toggleable__label {background-color: #d4ebff;}#sk-container-id-6 div.sk-label input.sk-toggleable__control:checked~label.sk-toggleable__label {background-color: #d4ebff;}#sk-container-id-6 input.sk-hidden--visually {border: 0;clip: rect(1px 1px 1px 1px);clip: rect(1px, 1px, 1px, 1px);height: 1px;margin: -1px;overflow: hidden;padding: 0;position: absolute;width: 1px;}#sk-container-id-6 div.sk-estimator {font-family: monospace;background-color: #f0f8ff;border: 1px dotted black;border-radius: 0.25em;box-sizing: border-box;margin-bottom: 0.5em;}#sk-container-id-6 div.sk-estimator:hover {background-color: #d4ebff;}#sk-container-id-6 div.sk-parallel-item::after {content: \"\";width: 100%;border-bottom: 1px solid gray;flex-grow: 1;}#sk-container-id-6 div.sk-label:hover label.sk-toggleable__label {background-color: #d4ebff;}#sk-container-id-6 div.sk-serial::before {content: \"\";position: absolute;border-left: 1px solid gray;box-sizing: border-box;top: 0;bottom: 0;left: 50%;z-index: 0;}#sk-container-id-6 div.sk-serial {display: flex;flex-direction: column;align-items: center;background-color: white;padding-right: 0.2em;padding-left: 0.2em;position: relative;}#sk-container-id-6 div.sk-item {position: relative;z-index: 1;}#sk-container-id-6 div.sk-parallel {display: flex;align-items: stretch;justify-content: center;background-color: white;position: relative;}#sk-container-id-6 div.sk-item::before, #sk-container-id-6 div.sk-parallel-item::before {content: \"\";position: absolute;border-left: 1px solid gray;box-sizing: border-box;top: 0;bottom: 0;left: 50%;z-index: -1;}#sk-container-id-6 div.sk-parallel-item {display: flex;flex-direction: column;z-index: 1;position: relative;background-color: white;}#sk-container-id-6 div.sk-parallel-item:first-child::after {align-self: flex-end;width: 50%;}#sk-container-id-6 div.sk-parallel-item:last-child::after {align-self: flex-start;width: 50%;}#sk-container-id-6 div.sk-parallel-item:only-child::after {width: 0;}#sk-container-id-6 div.sk-dashed-wrapped {border: 1px dashed gray;margin: 0 0.4em 0.5em 0.4em;box-sizing: border-box;padding-bottom: 0.4em;background-color: white;}#sk-container-id-6 div.sk-label label {font-family: monospace;font-weight: bold;display: inline-block;line-height: 1.2em;}#sk-container-id-6 div.sk-label-container {text-align: center;}#sk-container-id-6 div.sk-container {/* jupyter's `normalize.less` sets `[hidden] { display: none; }` but bootstrap.min.css set `[hidden] { display: none !important; }` so we also need the `!important` here to be able to override the default hidden behavior on the sphinx rendered scikit-learn.org. See: https://github.com/scikit-learn/scikit-learn/issues/21755 */display: inline-block !important;position: relative;}#sk-container-id-6 div.sk-text-repr-fallback {display: none;}</style><div id=\"sk-container-id-6\" class=\"sk-top-container\"><div class=\"sk-text-repr-fallback\"><pre>RandomForestClassifier()</pre><b>In a Jupyter environment, please rerun this cell to show the HTML representation or trust the notebook. <br />On GitHub, the HTML representation is unable to render, please try loading this page with nbviewer.org.</b></div><div class=\"sk-container\" hidden><div class=\"sk-item\"><div class=\"sk-estimator sk-toggleable\"><input class=\"sk-toggleable__control sk-hidden--visually\" id=\"sk-estimator-id-8\" type=\"checkbox\" checked><label for=\"sk-estimator-id-8\" class=\"sk-toggleable__label sk-toggleable__label-arrow\">RandomForestClassifier</label><div class=\"sk-toggleable__content\"><pre>RandomForestClassifier()</pre></div></div></div></div></div>"
      ],
      "text/plain": [
       "RandomForestClassifier()"
      ]
     },
     "execution_count": 60,
     "metadata": {},
     "output_type": "execute_result"
    }
   ],
   "source": [
    "#Build RF model\n",
    "rf = RandomForestClassifier()\n",
    "rf.fit(X_train, y_train)"
   ]
  },
  {
   "cell_type": "code",
   "execution_count": 61,
   "id": "c9ad65d4-fca3-4883-921e-2e3e2a8464a8",
   "metadata": {},
   "outputs": [],
   "source": [
    "y_pred=rf.predict(X_test)"
   ]
  },
  {
   "cell_type": "code",
   "execution_count": 62,
   "id": "87f87142-186a-4953-9106-00c634bf39aa",
   "metadata": {},
   "outputs": [
    {
     "name": "stdout",
     "output_type": "stream",
     "text": [
      "Accuracy: 1.0\n"
     ]
    }
   ],
   "source": [
    "accuracy=accuracy_score(y_test, y_pred)\n",
    "print(\"Accuracy:\", accuracy)"
   ]
  },
  {
   "cell_type": "code",
   "execution_count": 63,
   "id": "525d976e-cf92-44fa-8e5e-7c3c923d0554",
   "metadata": {},
   "outputs": [
    {
     "name": "stdout",
     "output_type": "stream",
     "text": [
      "[[ 44585.4    118502.4    611233.6    ...  13335.94    10757.63\n",
      "       0.    ]\n",
      " [ 21627.87    82145.65   461915.5    ...      0.          0.\n",
      "       0.    ]\n",
      " [ 30635.64   101212.5    580755.     ...      0.          0.\n",
      "       0.    ]\n",
      " ...\n",
      " [ 27656.08    81016.56   491885.8    ...   6553.5996      0.\n",
      "       0.    ]\n",
      " [ 49249.81   121152.     649991.     ...  16893.96    12618.99\n",
      "    8465.199 ]\n",
      " [ 27833.5     83168.84   499433.1    ...      0.          0.\n",
      "       0.    ]]\n"
     ]
    }
   ],
   "source": [
    "print(X_filtered)"
   ]
  },
  {
   "cell_type": "code",
   "execution_count": null,
   "id": "b7d8a01c-ab43-4def-85d0-c6590ea457bd",
   "metadata": {},
   "outputs": [],
   "source": []
  }
 ],
 "metadata": {
  "kernelspec": {
   "display_name": "Python 3 (ipykernel)",
   "language": "python",
   "name": "python3"
  },
  "language_info": {
   "codemirror_mode": {
    "name": "ipython",
    "version": 3
   },
   "file_extension": ".py",
   "mimetype": "text/x-python",
   "name": "python",
   "nbconvert_exporter": "python",
   "pygments_lexer": "ipython3",
   "version": "3.11.7"
  }
 },
 "nbformat": 4,
 "nbformat_minor": 5
}
