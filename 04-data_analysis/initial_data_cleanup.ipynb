{
 "cells": [
  {
   "cell_type": "code",
   "execution_count": 60,
   "id": "2cc47d07-518a-45b9-9160-6a763b947ddd",
   "metadata": {},
   "outputs": [],
   "source": [
    "#For dataframes\n",
    "import pandas as pd\n",
    "#For other stuff\n",
    "import numpy as np\n",
    "\n",
    "#Read output from metaboigniter\n",
    "data=pd.read_csv(\"../99-output/TABLE_OUTPUT/output_quantification_Linked_data.tsv\", sep='\\t')"
   ]
  },
  {
   "cell_type": "code",
   "execution_count": 61,
   "id": "582d8797-7c77-4e12-aea1-10f4ee497020",
   "metadata": {},
   "outputs": [],
   "source": [
    "#View dataframe\n",
    "#print(data.head(5))"
   ]
  },
  {
   "cell_type": "code",
   "execution_count": 62,
   "id": "fbc0d90a-0bf4-4a0e-b443-3b7b58c96c36",
   "metadata": {},
   "outputs": [],
   "source": [
    "#Remove excess columns for ease of processing, can use the IDs later to cross-reference compounds to get m/z and RT info\n",
    "data_trunc=data.drop(columns=['charge','RT','mz','quality','feature_ids'])"
   ]
  },
  {
   "cell_type": "code",
   "execution_count": 63,
   "id": "2e470aab-7e0a-41a1-87fe-e6f1739d6f8b",
   "metadata": {},
   "outputs": [],
   "source": [
    "#print(data_trunc.head(5))"
   ]
  },
  {
   "cell_type": "code",
   "execution_count": 79,
   "id": "a7af557c-e685-446e-b59c-9b89782f0377",
   "metadata": {},
   "outputs": [],
   "source": [
    "#Transpose dataframe to be of form [sample,feature]\n",
    "data_t=data_trunc.transpose()"
   ]
  },
  {
   "cell_type": "code",
   "execution_count": 65,
   "id": "7c311991-c983-4f5f-aea2-78cc3d66adea",
   "metadata": {},
   "outputs": [],
   "source": [
    "#print(data_t.head(5))"
   ]
  },
  {
   "cell_type": "code",
   "execution_count": 80,
   "id": "15da507e-92c3-41d6-85c2-3b25904840b1",
   "metadata": {},
   "outputs": [],
   "source": [
    "#Let's do some data cleanup\n",
    "\n",
    "#Replace column headers with the first row in the dataframe\n",
    "data_t.columns=data_t.iloc[0]"
   ]
  },
  {
   "cell_type": "code",
   "execution_count": 70,
   "id": "6029880b-7bab-45f8-9c4a-6318ee5d4431",
   "metadata": {},
   "outputs": [],
   "source": [
    "#print(data_t.head(5))"
   ]
  },
  {
   "cell_type": "code",
   "execution_count": 81,
   "id": "0c9c2806-3b13-44d4-8eb2-2aeffd0a65da",
   "metadata": {},
   "outputs": [],
   "source": [
    "#Delete the repeated row\n",
    "data_t=data_t.drop(data_t.index[0])"
   ]
  },
  {
   "cell_type": "code",
   "execution_count": 72,
   "id": "a7e667c6-2cc9-436c-b42f-10c965df951a",
   "metadata": {},
   "outputs": [],
   "source": [
    "#print(data_t.head(5))"
   ]
  },
  {
   "cell_type": "code",
   "execution_count": 82,
   "id": "ac98382b-d378-49a9-8e3c-88623e597a68",
   "metadata": {},
   "outputs": [],
   "source": [
    "#Make 'sample' the new index and separate the columns\n",
    "data_t.index.name='sample'\n",
    "data_t.reset_index(inplace=True)\n",
    "#data_t=data_t.set_index('sample')"
   ]
  },
  {
   "cell_type": "code",
   "execution_count": 75,
   "id": "4dd3f1d6-ae24-483f-b9f4-0ab29e15bc3b",
   "metadata": {},
   "outputs": [],
   "source": [
    "#print(data_t.head(5))"
   ]
  },
  {
   "cell_type": "code",
   "execution_count": 83,
   "id": "21cbf4de-215b-4a52-a445-a3458afa46fc",
   "metadata": {},
   "outputs": [],
   "source": [
    "#Split samplename-rep.ext into samplename, rep.ext columns\n",
    "data_t[['sample','rep']] = data_t['sample'].str.split('-',expand=True)"
   ]
  },
  {
   "cell_type": "code",
   "execution_count": 77,
   "id": "aa754f41-f9de-45e4-8cd7-fad7bb8a1fc3",
   "metadata": {},
   "outputs": [],
   "source": [
    "#print(data_t.head(5))"
   ]
  },
  {
   "cell_type": "code",
   "execution_count": 84,
   "id": "27cc6dec-ae45-43ca-b25a-a52912c38598",
   "metadata": {},
   "outputs": [],
   "source": [
    "#Split rep.ext in to rep and ext columns\n",
    "data_t[['rep','ext']]=data_t['rep'].str.split('.',expand=True)"
   ]
  },
  {
   "cell_type": "code",
   "execution_count": 85,
   "id": "20d149dc-9fdf-4d43-9429-7c8870cfec91",
   "metadata": {},
   "outputs": [],
   "source": [
    "#Delete 'ext' column\n",
    "data_t=data_t.drop(columns='ext')"
   ]
  },
  {
   "cell_type": "code",
   "execution_count": 86,
   "id": "ee89d180-ca31-429f-bfd1-39926df8a059",
   "metadata": {},
   "outputs": [],
   "source": [
    "#print(data_t.head(5))"
   ]
  },
  {
   "cell_type": "code",
   "execution_count": 87,
   "id": "cf373725-c432-4453-afa4-326d2b0b4401",
   "metadata": {},
   "outputs": [],
   "source": []
  },
  {
   "cell_type": "code",
   "execution_count": 88,
   "id": "e1a86968-a9e7-4880-880a-40bf6cbd0112",
   "metadata": {},
   "outputs": [],
   "source": [
    "#print(data_t.head(5))"
   ]
  },
  {
   "cell_type": "code",
   "execution_count": null,
   "id": "c8cb4685-e56a-4efb-975d-eb0006bc1768",
   "metadata": {},
   "outputs": [],
   "source": [
    "#Need code that will look to see if every repeated measure in at least one sample has a non-zero entry, otherwise remove that column\n",
    "#new_df = pd.DataFrame()\n",
    "#df = pd.DataFrame()\n",
    "#for col in data_t.columns:\n",
    "#    for row in data_t.index:\n",
    "#        df=data_t[row,col]\n",
    "#        if not 0 in df:\n",
    "#            new_df['col']=data_t['col']\n",
    "#            break\n",
    "\n",
    "\n",
    "#None of this seems to work, need a new approach"
   ]
  },
  {
   "cell_type": "code",
   "execution_count": 90,
   "id": "7210798a-a3be-4f12-9f67-985f61ae6b90",
   "metadata": {},
   "outputs": [],
   "source": [
    "#Create new list for column headers to keep\n",
    "keep=[]\n",
    "\n",
    "# Goes column by column (peak by peak), defines a function to check for zeroes, keeps only peaks where at least one set of injections \n",
    "# has all non-zero entries, otherwise toss it\n",
    "for col in data_t.columns:\n",
    "    has_zero = data_t.groupby(data_t['sample'])[col].transform(lambda x: (x == 0).any())\n",
    "    if not has_zero.all():\n",
    "        keep.append(col)"
   ]
  },
  {
   "cell_type": "code",
   "execution_count": 91,
   "id": "164abac7-ae41-4944-a98b-38e61747cbd4",
   "metadata": {},
   "outputs": [
    {
     "name": "stdout",
     "output_type": "stream",
     "text": [
      "55452\n"
     ]
    }
   ],
   "source": [
    "#Check to see how many peaks we've kept\n",
    "print(len(keep))"
   ]
  },
  {
   "cell_type": "code",
   "execution_count": 95,
   "id": "d097652c-27bf-4414-bf24-972bd4dd4dc9",
   "metadata": {},
   "outputs": [],
   "source": [
    "# Combine the sample column from the transposed dataframe with all the columns from the \"keep\" list of headers\n",
    "new_df=data_t[keep]"
   ]
  },
  {
   "cell_type": "code",
   "execution_count": 101,
   "id": "75c03712-277d-41da-a11f-5403130a7615",
   "metadata": {},
   "outputs": [],
   "source": [
    "# Transpose and output the dataframe to csv so we have a copy of it\n",
    "new_df.to_csv(\"trimmed.csv\", index=False)"
   ]
  },
  {
   "cell_type": "code",
   "execution_count": null,
   "id": "af6d0ad4-5326-4c71-93ec-69ba3eeb8003",
   "metadata": {},
   "outputs": [],
   "source": []
  }
 ],
 "metadata": {
  "kernelspec": {
   "display_name": "Python 3 (ipykernel)",
   "language": "python",
   "name": "python3"
  },
  "language_info": {
   "codemirror_mode": {
    "name": "ipython",
    "version": 3
   },
   "file_extension": ".py",
   "mimetype": "text/x-python",
   "name": "python",
   "nbconvert_exporter": "python",
   "pygments_lexer": "ipython3",
   "version": "3.11.7"
  }
 },
 "nbformat": 4,
 "nbformat_minor": 5
}
